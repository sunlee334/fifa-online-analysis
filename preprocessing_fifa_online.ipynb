{
 "cells": [
  {
   "cell_type": "markdown",
   "metadata": {
    "collapsed": true,
    "pycharm": {
     "name": "#%% md\n"
    }
   },
   "source": [
    "## 데이터 전처리\n",
    "데이터 분석에 앞서, 분석에 필요한 데이터들로 전처리 작업을 해줍니다."
   ]
  },
  {
   "cell_type": "markdown",
   "source": [
    "### 패키지 설치"
   ],
   "metadata": {
    "collapsed": false,
    "pycharm": {
     "name": "#%% md\n"
    }
   }
  },
  {
   "cell_type": "code",
   "execution_count": 19,
   "outputs": [],
   "source": [
    "import requests\n",
    "import pandas as pd\n",
    "import numpy as np\n",
    "from bs4 import BeautifulSoup\n",
    "import re"
   ],
   "metadata": {
    "collapsed": false,
    "pycharm": {
     "name": "#%%\n"
    }
   }
  },
  {
   "cell_type": "markdown",
   "source": [
    "### 시즌아이디(seasonId) 메타데이터 조회\n",
    "필요한 데이터는 챔피언스리그 시즌 데이터 이므로 챔피언스리그 시즌에 대응하는 아이디 값만 필터링 해줍니다."
   ],
   "metadata": {
    "collapsed": false,
    "pycharm": {
     "name": "#%% md\n"
    }
   }
  },
  {
   "cell_type": "code",
   "execution_count": 11,
   "outputs": [],
   "source": [
    "seasonId_res = requests.get('https://static.api.nexon.co.kr/fifaonline4/latest/seasonid.json')\n",
    "\n",
    "if seasonId_res.status_code == 200:\n",
    "    seasonId_parsed_data = seasonId_res.json()\n",
    "    seasonId_data = pd.DataFrame(seasonId_parsed_data)\n",
    "elif seasonId_res.status_code == 404:\n",
    "    print('Not Found.')\n",
    "else:\n",
    "    print('An error has occurred.')\n",
    "\n",
    "uefa_data = seasonId_data.loc[seasonId_data['className'].str.contains('UEFA')]"
   ],
   "metadata": {
    "collapsed": false,
    "pycharm": {
     "name": "#%%\n"
    }
   }
  },
  {
   "cell_type": "code",
   "execution_count": 12,
   "outputs": [
    {
     "data": {
      "text/plain": "    seasonId                          className  \\\n16       221  19 UCL (19 UEFA Champions League)   \n29       242  20 UCL (20 UEFA Champions League)   \n42       260  21 UCL (21 UEFA Champions League)   \n\n                                            seasonImg  \n16  https://ssl.nexon.com/s2/game/fo4/obt/external...  \n29  https://ssl.nexon.com/s2/game/fo4/obt/external...  \n42  https://ssl.nexon.com/s2/game/fo4/obt/external...  ",
      "text/html": "<div>\n<style scoped>\n    .dataframe tbody tr th:only-of-type {\n        vertical-align: middle;\n    }\n\n    .dataframe tbody tr th {\n        vertical-align: top;\n    }\n\n    .dataframe thead th {\n        text-align: right;\n    }\n</style>\n<table border=\"1\" class=\"dataframe\">\n  <thead>\n    <tr style=\"text-align: right;\">\n      <th></th>\n      <th>seasonId</th>\n      <th>className</th>\n      <th>seasonImg</th>\n    </tr>\n  </thead>\n  <tbody>\n    <tr>\n      <th>16</th>\n      <td>221</td>\n      <td>19 UCL (19 UEFA Champions League)</td>\n      <td>https://ssl.nexon.com/s2/game/fo4/obt/external...</td>\n    </tr>\n    <tr>\n      <th>29</th>\n      <td>242</td>\n      <td>20 UCL (20 UEFA Champions League)</td>\n      <td>https://ssl.nexon.com/s2/game/fo4/obt/external...</td>\n    </tr>\n    <tr>\n      <th>42</th>\n      <td>260</td>\n      <td>21 UCL (21 UEFA Champions League)</td>\n      <td>https://ssl.nexon.com/s2/game/fo4/obt/external...</td>\n    </tr>\n  </tbody>\n</table>\n</div>"
     },
     "execution_count": 12,
     "metadata": {},
     "output_type": "execute_result"
    }
   ],
   "source": [
    "uefa_data.head()"
   ],
   "metadata": {
    "collapsed": false,
    "pycharm": {
     "name": "#%%\n"
    }
   }
  },
  {
   "cell_type": "markdown",
   "source": [
    "챔피언스리그 시즌 아이디는 221, 242, 260 임을 알 수 있습니다."
   ],
   "metadata": {
    "collapsed": false,
    "pycharm": {
     "name": "#%% md\n"
    }
   }
  },
  {
   "cell_type": "markdown",
   "source": [
    "### 선수 고유 식별자(spid) 메타데이터 조회\n",
    "선수 고유 식별자는 시즌아이디 (seasonid) 3자리 + 선수아이디 (pid) 6자리로 구성되어 있습니다.\n",
    "앞서 필터링한 챔피언스리그 시즌 아이디를 사용하여 챔피언스리그에 출전한 선수들로만 추가 필터링을 해줍니다."
   ],
   "metadata": {
    "collapsed": false
   }
  },
  {
   "cell_type": "code",
   "execution_count": 13,
   "outputs": [],
   "source": [
    "spId_res = requests.get('https://static.api.nexon.co.kr/fifaonline4/latest/spid.json')\n",
    "\n",
    "if spId_res.status_code == 200:\n",
    "    spId_parsed_data = spId_res.json()\n",
    "    spId_data = pd.DataFrame(spId_parsed_data)\n",
    "elif spId_res.status_code == 404:\n",
    "    print('Not Found.')\n",
    "else:\n",
    "    print('An error has occurred.')\n",
    "\n",
    "uefa19_data = spId_data.loc[spId_data['id'].astype(str).str.startswith('221')]\n",
    "uefa20_data = spId_data.loc[spId_data['id'].astype(str).str.startswith('242')]\n",
    "uefa21_data = spId_data.loc[spId_data['id'].astype(str).str.startswith('260')]"
   ],
   "metadata": {
    "collapsed": false,
    "pycharm": {
     "name": "#%%\n"
    }
   }
  },
  {
   "cell_type": "code",
   "execution_count": 14,
   "outputs": [
    {
     "data": {
      "text/plain": "             id        name\n6819  260002147  M. 스테켈렌뷔르흐\n6820  260020801  크리스티아누 호날두\n6821  260124375     부라크 일마즈\n6822  260135507       페르난지뉴\n6823  260138412      제임스 밀너",
      "text/html": "<div>\n<style scoped>\n    .dataframe tbody tr th:only-of-type {\n        vertical-align: middle;\n    }\n\n    .dataframe tbody tr th {\n        vertical-align: top;\n    }\n\n    .dataframe thead th {\n        text-align: right;\n    }\n</style>\n<table border=\"1\" class=\"dataframe\">\n  <thead>\n    <tr style=\"text-align: right;\">\n      <th></th>\n      <th>id</th>\n      <th>name</th>\n    </tr>\n  </thead>\n  <tbody>\n    <tr>\n      <th>6819</th>\n      <td>260002147</td>\n      <td>M. 스테켈렌뷔르흐</td>\n    </tr>\n    <tr>\n      <th>6820</th>\n      <td>260020801</td>\n      <td>크리스티아누 호날두</td>\n    </tr>\n    <tr>\n      <th>6821</th>\n      <td>260124375</td>\n      <td>부라크 일마즈</td>\n    </tr>\n    <tr>\n      <th>6822</th>\n      <td>260135507</td>\n      <td>페르난지뉴</td>\n    </tr>\n    <tr>\n      <th>6823</th>\n      <td>260138412</td>\n      <td>제임스 밀너</td>\n    </tr>\n  </tbody>\n</table>\n</div>"
     },
     "execution_count": 14,
     "metadata": {},
     "output_type": "execute_result"
    }
   ],
   "source": [
    "uefa21_data.head()"
   ],
   "metadata": {
    "collapsed": false,
    "pycharm": {
     "name": "#%%\n"
    }
   }
  },
  {
   "cell_type": "markdown",
   "source": [
    "분석에 필요한 데이터는 첼시 선수들 한정이므로 팀 구분자를 제공해주면 좋겠지만 아쉽게도 제공해주지 않네요.\n",
    "첼시 선수 명단을 직접 넣어줘야 할 것 같습니다."
   ],
   "metadata": {
    "collapsed": false,
    "pycharm": {
     "name": "#%% md\n"
    }
   }
  },
  {
   "cell_type": "code",
   "execution_count": 15,
   "outputs": [],
   "source": [
    "chelsea_player = [\n",
    "    '안토니오 뤼디거',\n",
    "    '티아구 실바',\n",
    "    '티모 베르너',\n",
    "    '에두아르 멘디',\n",
    "    'A. 크리스텐센',\n",
    "    '리스 제임스',\n",
    "    '로멜루 루카쿠',\n",
    "    '조르지뉴',\n",
    "    '하킴 지예시',\n",
    "    'C. 허드슨-오도이',\n",
    "    '아스필리쿠에타',\n",
    "    '루벤 로프터스-칙',\n",
    "    '카이 하베르츠',\n",
    "    '트레보 찰로바',\n",
    "    '메이슨 마운트',\n",
    "    '마르코스 알론소',\n",
    "    '벤 칠웰',\n",
    "    '사울',\n",
    "    '은골로 캉테',\n",
    "    '크리스천 풀리식',\n",
    "    '말랑 사르',\n",
    "    '로스 바클리',\n",
    "    '케파',\n",
    "    'M. 베티넬리'\n",
    "]\n",
    "\n",
    "uefa19_chelsea_data = uefa19_data.loc[spId_data['name'].str.contains('|'.join(chelsea_player))]\n",
    "uefa20_chelsea_data = uefa20_data.loc[spId_data['name'].str.contains('|'.join(chelsea_player))]\n",
    "uefa21_chelsea_data = uefa21_data.loc[spId_data['name'].str.contains('|'.join(chelsea_player))]"
   ],
   "metadata": {
    "collapsed": false,
    "pycharm": {
     "name": "#%%\n"
    }
   }
  },
  {
   "cell_type": "code",
   "execution_count": 16,
   "outputs": [
    {
     "data": {
      "text/plain": "             id      name\n6833  260164240    티아구 실바\n6862  260184432   아스필리쿠에타\n6884  260192505   로멜루 루카쿠\n6885  260192638  마르코스 알론소\n6909  260199189    로스 바클리",
      "text/html": "<div>\n<style scoped>\n    .dataframe tbody tr th:only-of-type {\n        vertical-align: middle;\n    }\n\n    .dataframe tbody tr th {\n        vertical-align: top;\n    }\n\n    .dataframe thead th {\n        text-align: right;\n    }\n</style>\n<table border=\"1\" class=\"dataframe\">\n  <thead>\n    <tr style=\"text-align: right;\">\n      <th></th>\n      <th>id</th>\n      <th>name</th>\n    </tr>\n  </thead>\n  <tbody>\n    <tr>\n      <th>6833</th>\n      <td>260164240</td>\n      <td>티아구 실바</td>\n    </tr>\n    <tr>\n      <th>6862</th>\n      <td>260184432</td>\n      <td>아스필리쿠에타</td>\n    </tr>\n    <tr>\n      <th>6884</th>\n      <td>260192505</td>\n      <td>로멜루 루카쿠</td>\n    </tr>\n    <tr>\n      <th>6885</th>\n      <td>260192638</td>\n      <td>마르코스 알론소</td>\n    </tr>\n    <tr>\n      <th>6909</th>\n      <td>260199189</td>\n      <td>로스 바클리</td>\n    </tr>\n  </tbody>\n</table>\n</div>"
     },
     "execution_count": 16,
     "metadata": {},
     "output_type": "execute_result"
    }
   ],
   "source": [
    "uefa21_chelsea_data.head()"
   ],
   "metadata": {
    "collapsed": false,
    "pycharm": {
     "name": "#%%\n"
    }
   }
  },
  {
   "cell_type": "markdown",
   "source": [
    "### 데이터 크롤링\n",
    "각 선수들의 데이터 조회는 피파온라인4 데이터센터 사이트의 선수 상세 정보 페이지에서 크롤링 하는 방향으로 진행해야 할 것 같습니다.\n",
    "\n",
    "https://fifaonline4.nexon.com/DataCenter/PlayerInfo?spid={선수 고유 식별자}"
   ],
   "metadata": {
    "collapsed": false,
    "pycharm": {
     "name": "#%% md\n"
    }
   }
  },
  {
   "cell_type": "code",
   "execution_count": 17,
   "outputs": [],
   "source": [
    "url = 'https://fifaonline4.nexon.com/DataCenter/PlayerInfo?spid='\n",
    "class_ids = pd.concat([uefa19_chelsea_data['id'], uefa20_chelsea_data['id'], uefa21_chelsea_data['id']])\n",
    "\n",
    "player_df = pd.DataFrame()\n",
    "\n",
    "for idx, val in enumerate(class_ids):\n",
    "    response = requests.get(url + str(val))\n",
    "\n",
    "    if response.status_code == 200:\n",
    "        html = response.text\n",
    "        soup = BeautifulSoup(html, 'html.parser')\n",
    "        header = '#middle .datacenter .player_view .content_header'\n",
    "        middle = '#middle .datacenter .player_view .content_middle'\n",
    "        bottom = '#middle .datacenter .player_view .content_bottom'\n",
    "        name = soup.select_one(header + ' ' + '.info_name .name').getText()\n",
    "        position = soup.select_one(header + ' ' + '.thumb .position').getText()\n",
    "        overall = soup.select_one(header + ' ' + '.thumb .ovr').getText()\n",
    "        birth = soup.select_one(header + ' ' + '.info_etc .birth').getText().strip()\n",
    "        height = soup.select_one(header + ' ' + '.info_etc .height').getText()\n",
    "        weight = soup.select_one(header + ' ' + '.info_etc .weight').getText()\n",
    "        physical = soup.select_one(header + ' ' + '.info_etc .physical').getText()\n",
    "        skill = soup.select_one(header + ' ' + '.info_etc .skill').getText().strip()\n",
    "        foot = soup.select_one(header + ' ' + '.info_etc .foot').getText().strip()\n",
    "        season = soup.select_one(header + ' ' + '.info_etc .season').getText()\n",
    "        team = soup.select_one(header + ' ' + '.info_team .team .txt').getText()\n",
    "        nation = soup.select_one(header + ' ' + '.info_team .nation .txt').getText()\n",
    "        skill_wrap = soup.select_one(header + ' ' + '.skill_wrap').getText()\n",
    "        overall_stats = soup.select(middle + ' ' + '.txt')\n",
    "        overall_values = soup.select(middle + ' ' + '.value')\n",
    "        detail_stats = soup.select(bottom + ' ' + '.txt')\n",
    "        detail_values = soup.select(bottom + ' ' + '.value')\n",
    "\n",
    "        if str(val).startswith('221'):\n",
    "            player_data = pd.DataFrame([{'class': '19'}])\n",
    "        elif str(val).startswith('242'):\n",
    "            player_data = pd.DataFrame([{'class': '20'}])\n",
    "        elif str(val).startswith('260'):\n",
    "            player_data = pd.DataFrame([{'class': '21'}])\n",
    "        else:\n",
    "            player_data = pd.DataFrame([{'class': np.nan}])\n",
    "        player_data['name'] = name\n",
    "        player_data['position'] = position\n",
    "        player_data['overall'] = overall\n",
    "        player_data['birth'] = birth\n",
    "        player_data['height'] = height\n",
    "        player_data['weight'] = weight\n",
    "        player_data['physical'] = physical\n",
    "        player_data['skill'] = skill\n",
    "        player_data['foot'] = foot\n",
    "        player_data['season'] = season\n",
    "        player_data['team'] = team\n",
    "        player_data['nation'] = nation\n",
    "        player_data['skill_wrap'] = re.sub(\"\\s|특성\", \"\", skill_wrap)\n",
    "        for s, v in zip(overall_stats, overall_values):\n",
    "            player_data['오버롤_' + s.getText()] = v.getText()\n",
    "        for s, v in zip(detail_stats, detail_values):\n",
    "            player_data[s.getText()] = v.getText()\n",
    "        player_data['클래스_이름_포지션_오버롤'] = player_data.apply(lambda x: str(x['class']) + '_' + x['name'] + '_' + x['position'] + '_' + str(x['overall']), axis=1)\n",
    "\n",
    "        player_df = pd.concat([player_df, player_data])\n",
    "\n",
    "\n",
    "\n",
    "    elif response.status_code == 404:\n",
    "        print('Not Found.')\n",
    "    else:\n",
    "        print('An error has occurred.')\n",
    "\n",
    "with pd.ExcelWriter('player_data_fifa_online.xlsx') as writer:\n",
    "    player_df.to_excel(writer, index=False)"
   ],
   "metadata": {
    "collapsed": false,
    "pycharm": {
     "name": "#%%\n"
    }
   }
  },
  {
   "cell_type": "code",
   "execution_count": 18,
   "outputs": [
    {
     "data": {
      "text/plain": "  class      name position overall             birth height weight physical  \\\n0    19    티아구 실바       CB      96  1984.09.22 (39세)  183cm   79kg       보통   \n0    19   아스필리쿠에타       RB      90  1989.08.28 (34세)  178cm   77kg       보통   \n0    19  마르코스 알론소       LB      87  1990.12.28 (33세)  188cm   85kg       마름   \n0    19    로스 바클리      CAM      74  1993.12.05 (30세)  186cm   87kg       보통   \n0    19  안토니오 뤼디거       CB      81  1993.03.03 (30세)  190cm   85kg       마름   \n\n    skill     foot  ... GK 핸들링 GK 킥 GK 반응속도 GK 위치선정     클래스_이름_포지션_오버롤  \\\n0  ★★☆☆☆☆  L3 – R5  ...     19   12      17      16    19_티아구 실바_CB_96   \n0  ★★☆☆☆☆  L3 – R5  ...      9   10       5       6   19_아스필리쿠에타_RB_90   \n0  ★★★☆☆☆  L5 – R3  ...      7   13      12       9  19_마르코스 알론소_LB_87   \n0  ★★★★☆☆  L5 – R5  ...     14   12      10       6   19_로스 바클리_CAM_74   \n0  ★★☆☆☆☆  L3 – R5  ...     15   10       8      12  19_안토니오 뤼디거_CB_81   \n\n  오버롤_다이빙 오버롤_핸들링 오버롤_킥 오버롤_반응속도 오버롤_위치선정  \n0     NaN     NaN   NaN      NaN      NaN  \n0     NaN     NaN   NaN      NaN      NaN  \n0     NaN     NaN   NaN      NaN      NaN  \n0     NaN     NaN   NaN      NaN      NaN  \n0     NaN     NaN   NaN      NaN      NaN  \n\n[5 rows x 60 columns]",
      "text/html": "<div>\n<style scoped>\n    .dataframe tbody tr th:only-of-type {\n        vertical-align: middle;\n    }\n\n    .dataframe tbody tr th {\n        vertical-align: top;\n    }\n\n    .dataframe thead th {\n        text-align: right;\n    }\n</style>\n<table border=\"1\" class=\"dataframe\">\n  <thead>\n    <tr style=\"text-align: right;\">\n      <th></th>\n      <th>class</th>\n      <th>name</th>\n      <th>position</th>\n      <th>overall</th>\n      <th>birth</th>\n      <th>height</th>\n      <th>weight</th>\n      <th>physical</th>\n      <th>skill</th>\n      <th>foot</th>\n      <th>...</th>\n      <th>GK 핸들링</th>\n      <th>GK 킥</th>\n      <th>GK 반응속도</th>\n      <th>GK 위치선정</th>\n      <th>클래스_이름_포지션_오버롤</th>\n      <th>오버롤_다이빙</th>\n      <th>오버롤_핸들링</th>\n      <th>오버롤_킥</th>\n      <th>오버롤_반응속도</th>\n      <th>오버롤_위치선정</th>\n    </tr>\n  </thead>\n  <tbody>\n    <tr>\n      <th>0</th>\n      <td>19</td>\n      <td>티아구 실바</td>\n      <td>CB</td>\n      <td>96</td>\n      <td>1984.09.22 (39세)</td>\n      <td>183cm</td>\n      <td>79kg</td>\n      <td>보통</td>\n      <td>★★☆☆☆☆</td>\n      <td>L3 – R5</td>\n      <td>...</td>\n      <td>19</td>\n      <td>12</td>\n      <td>17</td>\n      <td>16</td>\n      <td>19_티아구 실바_CB_96</td>\n      <td>NaN</td>\n      <td>NaN</td>\n      <td>NaN</td>\n      <td>NaN</td>\n      <td>NaN</td>\n    </tr>\n    <tr>\n      <th>0</th>\n      <td>19</td>\n      <td>아스필리쿠에타</td>\n      <td>RB</td>\n      <td>90</td>\n      <td>1989.08.28 (34세)</td>\n      <td>178cm</td>\n      <td>77kg</td>\n      <td>보통</td>\n      <td>★★☆☆☆☆</td>\n      <td>L3 – R5</td>\n      <td>...</td>\n      <td>9</td>\n      <td>10</td>\n      <td>5</td>\n      <td>6</td>\n      <td>19_아스필리쿠에타_RB_90</td>\n      <td>NaN</td>\n      <td>NaN</td>\n      <td>NaN</td>\n      <td>NaN</td>\n      <td>NaN</td>\n    </tr>\n    <tr>\n      <th>0</th>\n      <td>19</td>\n      <td>마르코스 알론소</td>\n      <td>LB</td>\n      <td>87</td>\n      <td>1990.12.28 (33세)</td>\n      <td>188cm</td>\n      <td>85kg</td>\n      <td>마름</td>\n      <td>★★★☆☆☆</td>\n      <td>L5 – R3</td>\n      <td>...</td>\n      <td>7</td>\n      <td>13</td>\n      <td>12</td>\n      <td>9</td>\n      <td>19_마르코스 알론소_LB_87</td>\n      <td>NaN</td>\n      <td>NaN</td>\n      <td>NaN</td>\n      <td>NaN</td>\n      <td>NaN</td>\n    </tr>\n    <tr>\n      <th>0</th>\n      <td>19</td>\n      <td>로스 바클리</td>\n      <td>CAM</td>\n      <td>74</td>\n      <td>1993.12.05 (30세)</td>\n      <td>186cm</td>\n      <td>87kg</td>\n      <td>보통</td>\n      <td>★★★★☆☆</td>\n      <td>L5 – R5</td>\n      <td>...</td>\n      <td>14</td>\n      <td>12</td>\n      <td>10</td>\n      <td>6</td>\n      <td>19_로스 바클리_CAM_74</td>\n      <td>NaN</td>\n      <td>NaN</td>\n      <td>NaN</td>\n      <td>NaN</td>\n      <td>NaN</td>\n    </tr>\n    <tr>\n      <th>0</th>\n      <td>19</td>\n      <td>안토니오 뤼디거</td>\n      <td>CB</td>\n      <td>81</td>\n      <td>1993.03.03 (30세)</td>\n      <td>190cm</td>\n      <td>85kg</td>\n      <td>마름</td>\n      <td>★★☆☆☆☆</td>\n      <td>L3 – R5</td>\n      <td>...</td>\n      <td>15</td>\n      <td>10</td>\n      <td>8</td>\n      <td>12</td>\n      <td>19_안토니오 뤼디거_CB_81</td>\n      <td>NaN</td>\n      <td>NaN</td>\n      <td>NaN</td>\n      <td>NaN</td>\n      <td>NaN</td>\n    </tr>\n  </tbody>\n</table>\n<p>5 rows × 60 columns</p>\n</div>"
     },
     "execution_count": 9,
     "metadata": {},
     "output_type": "execute_result"
    },
    {
     "data": {
      "text/plain": "  class      name position overall             birth height weight physical  \\\n0    19    티아구 실바       CB      96  1984.09.22 (39세)  183cm   79kg       보통   \n0    19   아스필리쿠에타       RB      90  1989.08.28 (34세)  178cm   77kg       보통   \n0    19  마르코스 알론소       LB      87  1990.12.28 (33세)  188cm   85kg       마름   \n0    19    로스 바클리      CAM      74  1993.12.05 (30세)  186cm   87kg       보통   \n0    19  안토니오 뤼디거       CB      81  1993.03.03 (30세)  190cm   85kg       마름   \n\n    skill     foot  ... GK 핸들링 GK 킥 GK 반응속도 GK 위치선정     클래스_이름_포지션_오버롤  \\\n0  ★★☆☆☆☆  L3 – R5  ...     19   12      17      16    19_티아구 실바_CB_96   \n0  ★★☆☆☆☆  L3 – R5  ...      9   10       5       6   19_아스필리쿠에타_RB_90   \n0  ★★★☆☆☆  L5 – R3  ...      7   13      12       9  19_마르코스 알론소_LB_87   \n0  ★★★★☆☆  L5 – R5  ...     14   12      10       6   19_로스 바클리_CAM_74   \n0  ★★☆☆☆☆  L3 – R5  ...     15   10       8      12  19_안토니오 뤼디거_CB_81   \n\n  오버롤_다이빙 오버롤_핸들링 오버롤_킥 오버롤_반응속도 오버롤_위치선정  \n0     NaN     NaN   NaN      NaN      NaN  \n0     NaN     NaN   NaN      NaN      NaN  \n0     NaN     NaN   NaN      NaN      NaN  \n0     NaN     NaN   NaN      NaN      NaN  \n0     NaN     NaN   NaN      NaN      NaN  \n\n[5 rows x 60 columns]",
      "text/html": "<div>\n<style scoped>\n    .dataframe tbody tr th:only-of-type {\n        vertical-align: middle;\n    }\n\n    .dataframe tbody tr th {\n        vertical-align: top;\n    }\n\n    .dataframe thead th {\n        text-align: right;\n    }\n</style>\n<table border=\"1\" class=\"dataframe\">\n  <thead>\n    <tr style=\"text-align: right;\">\n      <th></th>\n      <th>class</th>\n      <th>name</th>\n      <th>position</th>\n      <th>overall</th>\n      <th>birth</th>\n      <th>height</th>\n      <th>weight</th>\n      <th>physical</th>\n      <th>skill</th>\n      <th>foot</th>\n      <th>...</th>\n      <th>GK 핸들링</th>\n      <th>GK 킥</th>\n      <th>GK 반응속도</th>\n      <th>GK 위치선정</th>\n      <th>클래스_이름_포지션_오버롤</th>\n      <th>오버롤_다이빙</th>\n      <th>오버롤_핸들링</th>\n      <th>오버롤_킥</th>\n      <th>오버롤_반응속도</th>\n      <th>오버롤_위치선정</th>\n    </tr>\n  </thead>\n  <tbody>\n    <tr>\n      <th>0</th>\n      <td>19</td>\n      <td>티아구 실바</td>\n      <td>CB</td>\n      <td>96</td>\n      <td>1984.09.22 (39세)</td>\n      <td>183cm</td>\n      <td>79kg</td>\n      <td>보통</td>\n      <td>★★☆☆☆☆</td>\n      <td>L3 – R5</td>\n      <td>...</td>\n      <td>19</td>\n      <td>12</td>\n      <td>17</td>\n      <td>16</td>\n      <td>19_티아구 실바_CB_96</td>\n      <td>NaN</td>\n      <td>NaN</td>\n      <td>NaN</td>\n      <td>NaN</td>\n      <td>NaN</td>\n    </tr>\n    <tr>\n      <th>0</th>\n      <td>19</td>\n      <td>아스필리쿠에타</td>\n      <td>RB</td>\n      <td>90</td>\n      <td>1989.08.28 (34세)</td>\n      <td>178cm</td>\n      <td>77kg</td>\n      <td>보통</td>\n      <td>★★☆☆☆☆</td>\n      <td>L3 – R5</td>\n      <td>...</td>\n      <td>9</td>\n      <td>10</td>\n      <td>5</td>\n      <td>6</td>\n      <td>19_아스필리쿠에타_RB_90</td>\n      <td>NaN</td>\n      <td>NaN</td>\n      <td>NaN</td>\n      <td>NaN</td>\n      <td>NaN</td>\n    </tr>\n    <tr>\n      <th>0</th>\n      <td>19</td>\n      <td>마르코스 알론소</td>\n      <td>LB</td>\n      <td>87</td>\n      <td>1990.12.28 (33세)</td>\n      <td>188cm</td>\n      <td>85kg</td>\n      <td>마름</td>\n      <td>★★★☆☆☆</td>\n      <td>L5 – R3</td>\n      <td>...</td>\n      <td>7</td>\n      <td>13</td>\n      <td>12</td>\n      <td>9</td>\n      <td>19_마르코스 알론소_LB_87</td>\n      <td>NaN</td>\n      <td>NaN</td>\n      <td>NaN</td>\n      <td>NaN</td>\n      <td>NaN</td>\n    </tr>\n    <tr>\n      <th>0</th>\n      <td>19</td>\n      <td>로스 바클리</td>\n      <td>CAM</td>\n      <td>74</td>\n      <td>1993.12.05 (30세)</td>\n      <td>186cm</td>\n      <td>87kg</td>\n      <td>보통</td>\n      <td>★★★★☆☆</td>\n      <td>L5 – R5</td>\n      <td>...</td>\n      <td>14</td>\n      <td>12</td>\n      <td>10</td>\n      <td>6</td>\n      <td>19_로스 바클리_CAM_74</td>\n      <td>NaN</td>\n      <td>NaN</td>\n      <td>NaN</td>\n      <td>NaN</td>\n      <td>NaN</td>\n    </tr>\n    <tr>\n      <th>0</th>\n      <td>19</td>\n      <td>안토니오 뤼디거</td>\n      <td>CB</td>\n      <td>81</td>\n      <td>1993.03.03 (30세)</td>\n      <td>190cm</td>\n      <td>85kg</td>\n      <td>마름</td>\n      <td>★★☆☆☆☆</td>\n      <td>L3 – R5</td>\n      <td>...</td>\n      <td>15</td>\n      <td>10</td>\n      <td>8</td>\n      <td>12</td>\n      <td>19_안토니오 뤼디거_CB_81</td>\n      <td>NaN</td>\n      <td>NaN</td>\n      <td>NaN</td>\n      <td>NaN</td>\n      <td>NaN</td>\n    </tr>\n  </tbody>\n</table>\n<p>5 rows × 60 columns</p>\n</div>"
     },
     "execution_count": 18,
     "metadata": {},
     "output_type": "execute_result"
    }
   ],
   "source": [
    "player_df.head()"
   ],
   "metadata": {
    "collapsed": false,
    "pycharm": {
     "name": "#%%\n"
    }
   }
  }
 ],
 "metadata": {
  "kernelspec": {
   "display_name": "Python 3",
   "language": "python",
   "name": "python3"
  },
  "language_info": {
   "codemirror_mode": {
    "name": "ipython",
    "version": 2
   },
   "file_extension": ".py",
   "mimetype": "text/x-python",
   "name": "python",
   "nbconvert_exporter": "python",
   "pygments_lexer": "ipython2",
   "version": "2.7.6"
  }
 },
 "nbformat": 4,
 "nbformat_minor": 0
}