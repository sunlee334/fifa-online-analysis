{
 "cells": [
  {
   "cell_type": "markdown",
   "metadata": {
    "collapsed": true,
    "pycharm": {
     "name": "#%% md\n"
    }
   },
   "source": [
    "## 데이터 전처리\n",
    "데이터 분석에 앞서, 분석에 필요한 데이터들로 전처리 작업을 해줍니다."
   ]
  },
  {
   "cell_type": "markdown",
   "source": [
    "### 패키지 설치"
   ],
   "metadata": {
    "collapsed": false,
    "pycharm": {
     "name": "#%% md\n"
    }
   }
  },
  {
   "cell_type": "code",
   "execution_count": 239,
   "outputs": [],
   "source": [
    "import requests\n",
    "import pandas as pd\n",
    "import numpy as np\n",
    "from dotenv import load_dotenv\n",
    "import os\n",
    "from bs4 import BeautifulSoup\n",
    "import re"
   ],
   "metadata": {
    "collapsed": false,
    "pycharm": {
     "name": "#%%\n"
    }
   }
  },
  {
   "cell_type": "code",
   "execution_count": 64,
   "outputs": [],
   "source": [
    "load_dotenv()\n",
    "api_key = os.environ.get('API_KEY')"
   ],
   "metadata": {
    "collapsed": false,
    "pycharm": {
     "name": "#%%\n"
    }
   }
  },
  {
   "cell_type": "markdown",
   "source": [
    "### 시즌아이디(seasonId) 메타데이터 조회\n",
    "필요한 데이터는 챔피언스리그 시즌 데이터 이므로 챔피언스리그 시즌에 대응하는 아이디 값만 필터링 해줍니다."
   ],
   "metadata": {
    "collapsed": false,
    "pycharm": {
     "name": "#%% md\n"
    }
   }
  },
  {
   "cell_type": "code",
   "execution_count": 69,
   "outputs": [
    {
     "name": "stdout",
     "output_type": "stream",
     "text": [
      "    seasonId                          className  \\\n",
      "16       221  19 UCL (19 UEFA Champions League)   \n",
      "29       242  20 UCL (20 UEFA Champions League)   \n",
      "42       260  21 UCL (21 UEFA Champions League)   \n",
      "\n",
      "                                            seasonImg  \n",
      "16  https://ssl.nexon.com/s2/game/fo4/obt/external...  \n",
      "29  https://ssl.nexon.com/s2/game/fo4/obt/external...  \n",
      "42  https://ssl.nexon.com/s2/game/fo4/obt/external...  \n"
     ]
    }
   ],
   "source": [
    "seasonId_res = requests.get('https://static.api.nexon.co.kr/fifaonline4/latest/seasonid.json')\n",
    "\n",
    "if seasonId_res.status_code == 200:\n",
    "    seasonId_parsed_data = seasonId_res.json()\n",
    "    seasonId_data = pd.DataFrame(seasonId_parsed_data)\n",
    "    # print(seasonId_data)\n",
    "elif seasonId_res.status_code == 404:\n",
    "    print('Not Found.')\n",
    "else:\n",
    "    print('An error has occurred.')\n",
    "\n",
    "uefa_data = seasonId_data.loc[seasonId_data['className'].str.contains('UEFA')]\n",
    "print(uefa_data)"
   ],
   "metadata": {
    "collapsed": false,
    "pycharm": {
     "name": "#%%\n"
    }
   }
  },
  {
   "cell_type": "markdown",
   "source": [
    "챔피언스리그 시즌 아이디는 221, 242, 260 임을 알 수 있습니다."
   ],
   "metadata": {
    "collapsed": false,
    "pycharm": {
     "name": "#%% md\n"
    }
   }
  },
  {
   "cell_type": "markdown",
   "source": [
    "### 선수 고유 식별자(spid) 메타데이터 조회\n",
    "선수 고유 식별자는 시즌아이디 (seasonid) 3자리 + 선수아이디 (pid) 6자리로 구성되어 있습니다.\n",
    "앞서 필터링한 챔피언스리그 시즌 아이디를 사용하여 챔피언스리그에 출전한 선수들로만 추가 필터링을 해줍니다."
   ],
   "metadata": {
    "collapsed": false
   }
  },
  {
   "cell_type": "code",
   "execution_count": 80,
   "outputs": [
    {
     "name": "stdout",
     "output_type": "stream",
     "text": [
      "             id        name\n",
      "6819  260002147  M. 스테켈렌뷔르흐\n",
      "6820  260020801  크리스티아누 호날두\n",
      "6821  260124375     부라크 일마즈\n",
      "6822  260135507       페르난지뉴\n",
      "6823  260138412      제임스 밀너\n",
      "...         ...         ...\n",
      "7179  260263413      R. 시미치\n",
      "7180  260263439   파울루 베르나르두\n",
      "7181  260263943      하비 세라노\n",
      "7182  260264022   곤살루 에스테베스\n",
      "7183  260265459       T. 모턴\n",
      "\n",
      "[365 rows x 2 columns]\n"
     ]
    }
   ],
   "source": [
    "spId_res = requests.get('https://static.api.nexon.co.kr/fifaonline4/latest/spid.json')\n",
    "\n",
    "if spId_res.status_code == 200:\n",
    "    spId_parsed_data = spId_res.json()\n",
    "    spId_data = pd.DataFrame(spId_parsed_data)\n",
    "    # print(spId_data)\n",
    "elif spId_res.status_code == 404:\n",
    "    print('Not Found.')\n",
    "else:\n",
    "    print('An error has occurred.')\n",
    "\n",
    "uefa19_data = spId_data.loc[spId_data['id'].astype(str).str.startswith('221')]\n",
    "uefa20_data = spId_data.loc[spId_data['id'].astype(str).str.startswith('242')]\n",
    "uefa21_data = spId_data.loc[spId_data['id'].astype(str).str.startswith('260')]\n",
    "\n",
    "print(uefa21_data)"
   ],
   "metadata": {
    "collapsed": false,
    "pycharm": {
     "name": "#%%\n"
    }
   }
  },
  {
   "cell_type": "markdown",
   "source": [
    "분석에 필요한 데이터는 첼시 선수들 한정이므로 팀 구분자를 제공해주면 좋겠지만 아쉽게도 제공해주지 않네요.\n",
    "첼시 선수 명단을 직접 넣어줘야 할 것 같습니다."
   ],
   "metadata": {
    "collapsed": false,
    "pycharm": {
     "name": "#%% md\n"
    }
   }
  },
  {
   "cell_type": "code",
   "execution_count": 79,
   "outputs": [
    {
     "name": "stdout",
     "output_type": "stream",
     "text": [
      "             id        name\n",
      "6833  260164240      티아구 실바\n",
      "6862  260184432     아스필리쿠에타\n",
      "6884  260192505     로멜루 루카쿠\n",
      "6885  260192638    마르코스 알론소\n",
      "6909  260199189      로스 바클리\n",
      "6935  260204246     M. 베티넬리\n",
      "6943  260205452    안토니오 뤼디거\n",
      "6944  260205498        조르지뉴\n",
      "6953  260206585          케파\n",
      "6963  260208421          사울\n",
      "6965  260208670      하킴 지예시\n",
      "6984  260212188      티모 베르너\n",
      "6998  260213661    A. 크리스텐센\n",
      "6999  260213666   루벤 로프터스-칙\n",
      "7004  260215914      은골로 캉테\n",
      "7040  260227796    크리스천 풀리식\n",
      "7050  260229984        벤 칠웰\n",
      "7056  260230918     트레보 찰로바\n",
      "7069  260233064     메이슨 마운트\n",
      "7077  260234642     에두아르 멘디\n",
      "7084  260235454       말랑 사르\n",
      "7086  260235790     카이 하베르츠\n",
      "7103  260238074      리스 제임스\n",
      "7116  260240740  C. 허드슨-오도이\n"
     ]
    }
   ],
   "source": [
    "chelsea_player = [\n",
    "    '안토니오 뤼디거',\n",
    "    '티아구 실바',\n",
    "    '티모 베르너',\n",
    "    '에두아르 멘디',\n",
    "    'A. 크리스텐센',\n",
    "    '리스 제임스',\n",
    "    '로멜루 루카쿠',\n",
    "    '조르지뉴',\n",
    "    '하킴 지예시',\n",
    "    'C. 허드슨-오도이',\n",
    "    '아스필리쿠에타',\n",
    "    '루벤 로프터스-칙',\n",
    "    '카이 하베르츠',\n",
    "    '트레보 찰로바',\n",
    "    '메이슨 마운트',\n",
    "    '마르코스 알론소',\n",
    "    '벤 칠웰',\n",
    "    '사울',\n",
    "    '은골로 캉테',\n",
    "    '크리스천 풀리식',\n",
    "    '말랑 사르',\n",
    "    '로스 바클리',\n",
    "    '케파',\n",
    "    'M. 베티넬리'\n",
    "]\n",
    "\n",
    "\n",
    "uefa19_chelsea_data = uefa19_data.loc[spId_data['name'].str.contains('|'.join(chelsea_player))]\n",
    "uefa20_chelsea_data = uefa20_data.loc[spId_data['name'].str.contains('|'.join(chelsea_player))]\n",
    "uefa21_chelsea_data = uefa21_data.loc[spId_data['name'].str.contains('|'.join(chelsea_player))]\n",
    "\n",
    "print(uefa21_chelsea_data)"
   ],
   "metadata": {
    "collapsed": false,
    "pycharm": {
     "name": "#%%\n"
    }
   }
  },
  {
   "cell_type": "markdown",
   "source": [
    "### 데이터 크롤링\n",
    "각 선수들의 데이터 조회는 피파온라인4 데이터센터 사이트의 선수 상세 정보 페이지에서 크롤링 하는 방향으로 진행해야 할 것 같습니다.\n",
    "\n",
    "https://fifaonline4.nexon.com/DataCenter/PlayerInfo?spid={선수 고유 식별자}"
   ],
   "metadata": {
    "collapsed": false,
    "pycharm": {
     "name": "#%% md\n"
    }
   }
  },
  {
   "cell_type": "code",
   "execution_count": 249,
   "outputs": [],
   "source": [
    "url = 'https://fifaonline4.nexon.com/DataCenter/PlayerInfo?spid='\n",
    "player_simple_19_df = pd.DataFrame()\n",
    "player_detail_19_df = pd.DataFrame()\n",
    "player_simple_20_df = pd.DataFrame()\n",
    "player_detail_20_df = pd.DataFrame()\n",
    "player_simple_21_df = pd.DataFrame()\n",
    "player_detail_21_df = pd.DataFrame()\n",
    "\n",
    "for idx, val in enumerate(uefa19_chelsea_data['id']):\n",
    "    response = requests.get(url + str(val))\n",
    "\n",
    "    if response.status_code == 200:\n",
    "        html = response.text\n",
    "        soup = BeautifulSoup(html, 'html.parser')\n",
    "        name = soup.select_one('#middle .datacenter .player_view .content_header .info_name .name').getText()\n",
    "        position = soup.select_one('#middle .datacenter .player_view .content_header .thumb .position').getText()\n",
    "        overall = soup.select_one('#middle .datacenter .player_view .content_header .thumb .ovr').getText()\n",
    "        birth = soup.select_one('#middle .datacenter .player_view .content_header .info_etc .birth').getText().strip()\n",
    "        height = soup.select_one('#middle .datacenter .player_view .content_header .info_etc .height').getText()\n",
    "        weight = soup.select_one('#middle .datacenter .player_view .content_header .info_etc .weight').getText()\n",
    "        physical = soup.select_one('#middle .datacenter .player_view .content_header .info_etc .physical').getText()\n",
    "        skill = soup.select_one('#middle .datacenter .player_view .content_header .info_etc .skill').getText().strip()\n",
    "        foot = soup.select_one('#middle .datacenter .player_view .content_header .info_etc .foot').getText().strip()\n",
    "        season = soup.select_one('#middle .datacenter .player_view .content_header .info_etc .season').getText()\n",
    "        team = soup.select_one('#middle .datacenter .player_view .content_header .info_team .team .txt').getText()\n",
    "        nation = soup.select_one('#middle .datacenter .player_view .content_header .info_team .nation .txt').getText()\n",
    "        skill_wrap = soup.select_one('#middle .datacenter .player_view .content_header .skill_wrap').getText()\n",
    "        simple_stats = soup.select('#middle .datacenter .player_view .content_middle .txt')\n",
    "        simple_values = soup.select('#middle .datacenter .player_view .content_middle .value')\n",
    "        detail_stats = soup.select('#middle .datacenter .player_view .content_bottom .txt')\n",
    "        detail_values = soup.select('#middle .datacenter .player_view .content_bottom .value')\n",
    "\n",
    "        player_simple_data = pd.DataFrame([{'name':name}])\n",
    "        player_simple_data['position'] = position\n",
    "        player_simple_data['overall'] = overall\n",
    "        player_simple_data['birth'] = birth\n",
    "        player_simple_data['height'] = height\n",
    "        player_simple_data['weight'] = weight\n",
    "        player_simple_data['physical'] = physical\n",
    "        player_simple_data['skill'] = skill\n",
    "        player_simple_data['foot'] = foot\n",
    "        player_simple_data['season'] = season\n",
    "        player_simple_data['team'] = team\n",
    "        player_simple_data['nation'] = nation\n",
    "        player_simple_data['skill_wrap'] = re.sub(\"\\s|특성\", \"\", skill_wrap)\n",
    "        for s, v in zip(simple_stats, simple_values):\n",
    "            player_simple_data[s.getText()] = v.getText()\n",
    "        player_simple_19_df = pd.concat([player_simple_19_df, player_simple_data])\n",
    "\n",
    "        player_detail_data = pd.DataFrame([{'name':name}])\n",
    "        player_detail_data['position'] = position\n",
    "        player_detail_data['overall'] = overall\n",
    "        player_detail_data['birth'] = birth\n",
    "        player_detail_data['height'] = height\n",
    "        player_detail_data['weight'] = weight\n",
    "        player_detail_data['physical'] = physical\n",
    "        player_detail_data['skill'] = skill\n",
    "        player_detail_data['foot'] = foot\n",
    "        player_detail_data['season'] = season\n",
    "        player_detail_data['team'] = team\n",
    "        player_detail_data['nation'] = nation\n",
    "        player_detail_data['skill_wrap'] = re.sub(\"\\s|특성\", \"\", skill_wrap)\n",
    "        for s, v in zip(detail_stats, detail_values):\n",
    "            player_detail_data[s.getText()] = v.getText()\n",
    "        player_detail_19_df = pd.concat([player_detail_19_df, player_detail_data])\n",
    "\n",
    "    elif response.status_code == 404:\n",
    "        print('Not Found.')\n",
    "    else:\n",
    "        print('An error has occurred.')\n",
    "\n",
    "for idx, val in enumerate(uefa20_chelsea_data['id']):\n",
    "    response = requests.get(url + str(val))\n",
    "\n",
    "    if response.status_code == 200:\n",
    "        html = response.text\n",
    "        soup = BeautifulSoup(html, 'html.parser')\n",
    "        name = soup.select_one('#middle .datacenter .player_view .content_header .info_name .name').getText()\n",
    "        position = soup.select_one('#middle .datacenter .player_view .content_header .thumb .position').getText()\n",
    "        overall = soup.select_one('#middle .datacenter .player_view .content_header .thumb .ovr').getText()\n",
    "        birth = soup.select_one('#middle .datacenter .player_view .content_header .info_etc .birth').getText().strip()\n",
    "        height = soup.select_one('#middle .datacenter .player_view .content_header .info_etc .height').getText()\n",
    "        weight = soup.select_one('#middle .datacenter .player_view .content_header .info_etc .weight').getText()\n",
    "        physical = soup.select_one('#middle .datacenter .player_view .content_header .info_etc .physical').getText()\n",
    "        skill = soup.select_one('#middle .datacenter .player_view .content_header .info_etc .skill').getText().strip()\n",
    "        foot = soup.select_one('#middle .datacenter .player_view .content_header .info_etc .foot').getText().strip()\n",
    "        season = soup.select_one('#middle .datacenter .player_view .content_header .info_etc .season').getText()\n",
    "        team = soup.select_one('#middle .datacenter .player_view .content_header .info_team .team .txt').getText()\n",
    "        nation = soup.select_one('#middle .datacenter .player_view .content_header .info_team .nation .txt').getText()\n",
    "        skill_wrap = soup.select_one('#middle .datacenter .player_view .content_header .skill_wrap').getText()\n",
    "        simple_stats = soup.select('#middle .datacenter .player_view .content_middle .txt')\n",
    "        simple_values = soup.select('#middle .datacenter .player_view .content_middle .value')\n",
    "        detail_stats = soup.select('#middle .datacenter .player_view .content_bottom .txt')\n",
    "        detail_values = soup.select('#middle .datacenter .player_view .content_bottom .value')\n",
    "\n",
    "        player_simple_data = pd.DataFrame([{'name':name}])\n",
    "        player_simple_data['position'] = position\n",
    "        player_simple_data['overall'] = overall\n",
    "        player_simple_data['birth'] = birth\n",
    "        player_simple_data['height'] = height\n",
    "        player_simple_data['weight'] = weight\n",
    "        player_simple_data['physical'] = physical\n",
    "        player_simple_data['skill'] = skill\n",
    "        player_simple_data['foot'] = foot\n",
    "        player_simple_data['season'] = season\n",
    "        player_simple_data['team'] = team\n",
    "        player_simple_data['nation'] = nation\n",
    "        player_simple_data['skill_wrap'] = re.sub(\"\\s|특성\", \"\", skill_wrap)\n",
    "        for s, v in zip(simple_stats, simple_values):\n",
    "            player_simple_data[s.getText()] = v.getText()\n",
    "        player_simple_20_df = pd.concat([player_simple_20_df, player_simple_data])\n",
    "\n",
    "        player_detail_data = pd.DataFrame([{'name':name}])\n",
    "        player_detail_data['position'] = position\n",
    "        player_detail_data['overall'] = overall\n",
    "        player_detail_data['birth'] = birth\n",
    "        player_detail_data['height'] = height\n",
    "        player_detail_data['weight'] = weight\n",
    "        player_detail_data['physical'] = physical\n",
    "        player_detail_data['skill'] = skill\n",
    "        player_detail_data['foot'] = foot\n",
    "        player_detail_data['season'] = season\n",
    "        player_detail_data['team'] = team\n",
    "        player_detail_data['nation'] = nation\n",
    "        player_detail_data['skill_wrap'] = re.sub(\"\\s|특성\", \"\", skill_wrap)\n",
    "        for s, v in zip(detail_stats, detail_values):\n",
    "            player_detail_data[s.getText()] = v.getText()\n",
    "        player_detail_20_df = pd.concat([player_detail_20_df, player_detail_data])\n",
    "\n",
    "    elif response.status_code == 404:\n",
    "        print('Not Found.')\n",
    "    else:\n",
    "        print('An error has occurred.')\n",
    "\n",
    "for idx, val in enumerate(uefa21_chelsea_data['id']):\n",
    "    response = requests.get(url + str(val))\n",
    "\n",
    "    if response.status_code == 200:\n",
    "        html = response.text\n",
    "        soup = BeautifulSoup(html, 'html.parser')\n",
    "        name = soup.select_one('#middle .datacenter .player_view .content_header .info_name .name').getText()\n",
    "        position = soup.select_one('#middle .datacenter .player_view .content_header .thumb .position').getText()\n",
    "        overall = soup.select_one('#middle .datacenter .player_view .content_header .thumb .ovr').getText()\n",
    "        birth = soup.select_one('#middle .datacenter .player_view .content_header .info_etc .birth').getText().strip()\n",
    "        height = soup.select_one('#middle .datacenter .player_view .content_header .info_etc .height').getText()\n",
    "        weight = soup.select_one('#middle .datacenter .player_view .content_header .info_etc .weight').getText()\n",
    "        physical = soup.select_one('#middle .datacenter .player_view .content_header .info_etc .physical').getText()\n",
    "        skill = soup.select_one('#middle .datacenter .player_view .content_header .info_etc .skill').getText().strip()\n",
    "        foot = soup.select_one('#middle .datacenter .player_view .content_header .info_etc .foot').getText().strip()\n",
    "        season = soup.select_one('#middle .datacenter .player_view .content_header .info_etc .season').getText()\n",
    "        team = soup.select_one('#middle .datacenter .player_view .content_header .info_team .team .txt').getText()\n",
    "        nation = soup.select_one('#middle .datacenter .player_view .content_header .info_team .nation .txt').getText()\n",
    "        skill_wrap = soup.select_one('#middle .datacenter .player_view .content_header .skill_wrap').getText()\n",
    "        simple_stats = soup.select('#middle .datacenter .player_view .content_middle .txt')\n",
    "        simple_values = soup.select('#middle .datacenter .player_view .content_middle .value')\n",
    "        detail_stats = soup.select('#middle .datacenter .player_view .content_bottom .txt')\n",
    "        detail_values = soup.select('#middle .datacenter .player_view .content_bottom .value')\n",
    "\n",
    "        player_simple_data = pd.DataFrame([{'name':name}])\n",
    "        player_simple_data['position'] = position\n",
    "        player_simple_data['overall'] = overall\n",
    "        player_simple_data['birth'] = birth\n",
    "        player_simple_data['height'] = height\n",
    "        player_simple_data['weight'] = weight\n",
    "        player_simple_data['physical'] = physical\n",
    "        player_simple_data['skill'] = skill\n",
    "        player_simple_data['foot'] = foot\n",
    "        player_simple_data['season'] = season\n",
    "        player_simple_data['team'] = team\n",
    "        player_simple_data['nation'] = nation\n",
    "        player_simple_data['skill_wrap'] = re.sub(\"\\s|특성\", \"\", skill_wrap)\n",
    "        for s, v in zip(simple_stats, simple_values):\n",
    "            player_simple_data[s.getText()] = v.getText()\n",
    "        player_simple_21_df = pd.concat([player_simple_21_df, player_simple_data])\n",
    "\n",
    "        player_detail_data = pd.DataFrame([{'name':name}])\n",
    "        player_detail_data['position'] = position\n",
    "        player_detail_data['overall'] = overall\n",
    "        player_detail_data['birth'] = birth\n",
    "        player_detail_data['height'] = height\n",
    "        player_detail_data['weight'] = weight\n",
    "        player_detail_data['physical'] = physical\n",
    "        player_detail_data['skill'] = skill\n",
    "        player_detail_data['foot'] = foot\n",
    "        player_detail_data['season'] = season\n",
    "        player_detail_data['team'] = team\n",
    "        player_detail_data['nation'] = nation\n",
    "        player_detail_data['skill_wrap'] = re.sub(\"\\s|특성\", \"\", skill_wrap)\n",
    "        for s, v in zip(detail_stats, detail_values):\n",
    "            player_detail_data[s.getText()] = v.getText()\n",
    "        player_detail_21_df = pd.concat([player_detail_21_df, player_detail_data])\n",
    "\n",
    "    elif response.status_code == 404:\n",
    "        print('Not Found.')\n",
    "    else:\n",
    "        print('An error has occurred.')\n",
    "\n",
    "with pd.ExcelWriter('player_data.xlsx') as writer:\n",
    "    player_simple_19_df.to_excel(writer, sheet_name='simple_19', index=False)\n",
    "    player_detail_19_df.to_excel(writer, sheet_name='detail_19', index=False)\n",
    "    player_simple_20_df.to_excel(writer, sheet_name='simple_20', index=False)\n",
    "    player_detail_20_df.to_excel(writer, sheet_name='detail_20', index=False)\n",
    "    player_simple_21_df.to_excel(writer, sheet_name='simple_21', index=False)\n",
    "    player_detail_21_df.to_excel(writer, sheet_name='detail_21', index=False)"
   ],
   "metadata": {
    "collapsed": false,
    "pycharm": {
     "name": "#%%\n"
    }
   }
  }
 ],
 "metadata": {
  "kernelspec": {
   "display_name": "Python 3",
   "language": "python",
   "name": "python3"
  },
  "language_info": {
   "codemirror_mode": {
    "name": "ipython",
    "version": 2
   },
   "file_extension": ".py",
   "mimetype": "text/x-python",
   "name": "python",
   "nbconvert_exporter": "python",
   "pygments_lexer": "ipython2",
   "version": "2.7.6"
  }
 },
 "nbformat": 4,
 "nbformat_minor": 0
}