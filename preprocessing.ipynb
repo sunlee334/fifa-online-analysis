{
 "cells": [
  {
   "cell_type": "markdown",
   "metadata": {
    "collapsed": true,
    "pycharm": {
     "name": "#%% md\n"
    }
   },
   "source": [
    "## 데이터 전처리\n",
    "데이터 분석에 앞서, 분석에 필요한 데이터들로 전처리 작업을 해줍니다."
   ]
  },
  {
   "cell_type": "markdown",
   "source": [
    "### 패키지 설치"
   ],
   "metadata": {
    "collapsed": false,
    "pycharm": {
     "name": "#%% md\n"
    }
   }
  },
  {
   "cell_type": "code",
   "execution_count": 63,
   "outputs": [],
   "source": [
    "import requests\n",
    "import pandas as pd\n",
    "from dotenv import load_dotenv\n",
    "import os"
   ],
   "metadata": {
    "collapsed": false,
    "pycharm": {
     "name": "#%%\n"
    }
   }
  },
  {
   "cell_type": "code",
   "execution_count": 64,
   "outputs": [],
   "source": [
    "load_dotenv()\n",
    "api_key = os.environ.get('API_KEY')"
   ],
   "metadata": {
    "collapsed": false,
    "pycharm": {
     "name": "#%%\n"
    }
   }
  },
  {
   "cell_type": "markdown",
   "source": [
    "### 시즌아이디(seasonId) 메타데이터 조회\n",
    "필요한 데이터는 챔피언스리그 시즌 데이터 이므로 챔피언스리그 시즌에 대응하는 아이디 값만 필터링 해줍니다."
   ],
   "metadata": {
    "collapsed": false,
    "pycharm": {
     "name": "#%% md\n"
    }
   }
  },
  {
   "cell_type": "code",
   "execution_count": 69,
   "outputs": [
    {
     "name": "stdout",
     "output_type": "stream",
     "text": [
      "    seasonId                          className  \\\n",
      "16       221  19 UCL (19 UEFA Champions League)   \n",
      "29       242  20 UCL (20 UEFA Champions League)   \n",
      "42       260  21 UCL (21 UEFA Champions League)   \n",
      "\n",
      "                                            seasonImg  \n",
      "16  https://ssl.nexon.com/s2/game/fo4/obt/external...  \n",
      "29  https://ssl.nexon.com/s2/game/fo4/obt/external...  \n",
      "42  https://ssl.nexon.com/s2/game/fo4/obt/external...  \n"
     ]
    }
   ],
   "source": [
    "seasonId_res = requests.get('https://static.api.nexon.co.kr/fifaonline4/latest/seasonid.json')\n",
    "\n",
    "if seasonId_res.status_code == 200:\n",
    "    seasonId_parsed_data = seasonId_res.json()\n",
    "    seasonId_data = pd.DataFrame(seasonId_parsed_data)\n",
    "    # print(seasonId_data)\n",
    "elif seasonId_res.status_code == 404:\n",
    "    print('Not Found.')\n",
    "else:\n",
    "    print('An error has occurred.')\n",
    "\n",
    "uefa_data = seasonId_data.loc[seasonId_data['className'].str.contains('UEFA')]\n",
    "print(uefa_data)"
   ],
   "metadata": {
    "collapsed": false,
    "pycharm": {
     "name": "#%%\n"
    }
   }
  },
  {
   "cell_type": "markdown",
   "source": [
    "챔피언스리그 시즌 아이디는 221, 242, 260 임을 알 수 있습니다."
   ],
   "metadata": {
    "collapsed": false,
    "pycharm": {
     "name": "#%% md\n"
    }
   }
  },
  {
   "cell_type": "markdown",
   "source": [
    "### 선수 고유 식별자(spid) 메타데이터 조회\n",
    "선수 고유 식별자는 시즌아이디 (seasonid) 3자리 + 선수아이디 (pid) 6자리로 구성되어 있습니다.\n",
    "앞서 필터링한 챔피언스리그 시즌 아이디를 사용하여 챔피언스리그에 출전한 선수들로만 추가 필터링을 해줍니다."
   ],
   "metadata": {
    "collapsed": false
   }
  },
  {
   "cell_type": "code",
   "execution_count": 66,
   "outputs": [],
   "source": [
    "spId_res = requests.get('https://static.api.nexon.co.kr/fifaonline4/latest/spid.json')\n",
    "\n",
    "if spId_res.status_code == 200:\n",
    "    spId_parsed_data = spId_res.json()\n",
    "    spId_data = pd.DataFrame(spId_parsed_data)\n",
    "    # print(spId_data)\n",
    "elif spId_res.status_code == 404:\n",
    "    print('Not Found.')\n",
    "else:\n",
    "    print('An error has occurred.')\n",
    "\n",
    "uefa19_data = spId_data.loc[spId_data['id'].astype(str).str.startswith('221')]\n",
    "uefa20_data = spId_data.loc[spId_data['id'].astype(str).str.startswith('242')]\n",
    "uefa21_data = spId_data.loc[spId_data['id'].astype(str).str.startswith('260')]"
   ],
   "metadata": {
    "collapsed": false,
    "pycharm": {
     "name": "#%%\n"
    }
   }
  },
  {
   "cell_type": "markdown",
   "source": [
    "분석에 필요한 데이터는 첼시 선수들 한정이므로 팀 구분자를 제공해주면 좋겠지만 아쉽게도 제공해주지 않네요.\n",
    "\n",
    "이후 작업은 하기 사이트에서 각 선수들의 데이터를 크롤링 하는 방향으로 진행해야 할 것 같습니다.\n",
    "https://fifaonline4.nexon.com/DataCenter/PlayerInfo?spid={선수 고유 식별자}"
   ],
   "metadata": {
    "collapsed": false,
    "pycharm": {
     "name": "#%% md\n"
    }
   }
  }
 ],
 "metadata": {
  "kernelspec": {
   "display_name": "Python 3",
   "language": "python",
   "name": "python3"
  },
  "language_info": {
   "codemirror_mode": {
    "name": "ipython",
    "version": 2
   },
   "file_extension": ".py",
   "mimetype": "text/x-python",
   "name": "python",
   "nbconvert_exporter": "python",
   "pygments_lexer": "ipython2",
   "version": "2.7.6"
  }
 },
 "nbformat": 4,
 "nbformat_minor": 0
}