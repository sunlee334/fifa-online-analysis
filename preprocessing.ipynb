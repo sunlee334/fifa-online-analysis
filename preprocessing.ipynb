{
 "cells": [
  {
   "cell_type": "markdown",
   "metadata": {
    "collapsed": true,
    "pycharm": {
     "name": "#%% md\n"
    }
   },
   "source": [
    "## 데이터 전처리\n",
    "데이터 분석에 앞서, 분석에 필요한 데이터들로 전처리 작업을 해줍니다."
   ]
  },
  {
   "cell_type": "markdown",
   "source": [
    "### 패키지 설치"
   ],
   "metadata": {
    "collapsed": false,
    "pycharm": {
     "name": "#%% md\n"
    }
   }
  },
  {
   "cell_type": "code",
   "execution_count": 239,
   "outputs": [],
   "source": [
    "import requests\n",
    "import pandas as pd\n",
    "import numpy as np\n",
    "from dotenv import load_dotenv\n",
    "import os\n",
    "from bs4 import BeautifulSoup\n",
    "import re"
   ],
   "metadata": {
    "collapsed": false,
    "pycharm": {
     "name": "#%%\n"
    }
   }
  },
  {
   "cell_type": "code",
   "execution_count": 64,
   "outputs": [],
   "source": [
    "load_dotenv()\n",
    "api_key = os.environ.get('API_KEY')"
   ],
   "metadata": {
    "collapsed": false,
    "pycharm": {
     "name": "#%%\n"
    }
   }
  },
  {
   "cell_type": "markdown",
   "source": [
    "### 시즌아이디(seasonId) 메타데이터 조회\n",
    "필요한 데이터는 챔피언스리그 시즌 데이터 이므로 챔피언스리그 시즌에 대응하는 아이디 값만 필터링 해줍니다."
   ],
   "metadata": {
    "collapsed": false,
    "pycharm": {
     "name": "#%% md\n"
    }
   }
  },
  {
   "cell_type": "code",
   "execution_count": 253,
   "outputs": [],
   "source": [
    "seasonId_res = requests.get('https://static.api.nexon.co.kr/fifaonline4/latest/seasonid.json')\n",
    "\n",
    "if seasonId_res.status_code == 200:\n",
    "    seasonId_parsed_data = seasonId_res.json()\n",
    "    seasonId_data = pd.DataFrame(seasonId_parsed_data)\n",
    "elif seasonId_res.status_code == 404:\n",
    "    print('Not Found.')\n",
    "else:\n",
    "    print('An error has occurred.')\n",
    "\n",
    "uefa_data = seasonId_data.loc[seasonId_data['className'].str.contains('UEFA')]"
   ],
   "metadata": {
    "collapsed": false,
    "pycharm": {
     "name": "#%%\n"
    }
   }
  },
  {
   "cell_type": "code",
   "execution_count": 254,
   "outputs": [
    {
     "data": {
      "text/plain": "    seasonId                          className  \\\n16       221  19 UCL (19 UEFA Champions League)   \n29       242  20 UCL (20 UEFA Champions League)   \n42       260  21 UCL (21 UEFA Champions League)   \n\n                                            seasonImg  \n16  https://ssl.nexon.com/s2/game/fo4/obt/external...  \n29  https://ssl.nexon.com/s2/game/fo4/obt/external...  \n42  https://ssl.nexon.com/s2/game/fo4/obt/external...  ",
      "text/html": "<div>\n<style scoped>\n    .dataframe tbody tr th:only-of-type {\n        vertical-align: middle;\n    }\n\n    .dataframe tbody tr th {\n        vertical-align: top;\n    }\n\n    .dataframe thead th {\n        text-align: right;\n    }\n</style>\n<table border=\"1\" class=\"dataframe\">\n  <thead>\n    <tr style=\"text-align: right;\">\n      <th></th>\n      <th>seasonId</th>\n      <th>className</th>\n      <th>seasonImg</th>\n    </tr>\n  </thead>\n  <tbody>\n    <tr>\n      <th>16</th>\n      <td>221</td>\n      <td>19 UCL (19 UEFA Champions League)</td>\n      <td>https://ssl.nexon.com/s2/game/fo4/obt/external...</td>\n    </tr>\n    <tr>\n      <th>29</th>\n      <td>242</td>\n      <td>20 UCL (20 UEFA Champions League)</td>\n      <td>https://ssl.nexon.com/s2/game/fo4/obt/external...</td>\n    </tr>\n    <tr>\n      <th>42</th>\n      <td>260</td>\n      <td>21 UCL (21 UEFA Champions League)</td>\n      <td>https://ssl.nexon.com/s2/game/fo4/obt/external...</td>\n    </tr>\n  </tbody>\n</table>\n</div>"
     },
     "execution_count": 254,
     "metadata": {},
     "output_type": "execute_result"
    }
   ],
   "source": [
    "uefa_data.head()"
   ],
   "metadata": {
    "collapsed": false,
    "pycharm": {
     "name": "#%%\n"
    }
   }
  },
  {
   "cell_type": "markdown",
   "source": [
    "챔피언스리그 시즌 아이디는 221, 242, 260 임을 알 수 있습니다."
   ],
   "metadata": {
    "collapsed": false,
    "pycharm": {
     "name": "#%% md\n"
    }
   }
  },
  {
   "cell_type": "markdown",
   "source": [
    "### 선수 고유 식별자(spid) 메타데이터 조회\n",
    "선수 고유 식별자는 시즌아이디 (seasonid) 3자리 + 선수아이디 (pid) 6자리로 구성되어 있습니다.\n",
    "앞서 필터링한 챔피언스리그 시즌 아이디를 사용하여 챔피언스리그에 출전한 선수들로만 추가 필터링을 해줍니다."
   ],
   "metadata": {
    "collapsed": false
   }
  },
  {
   "cell_type": "code",
   "execution_count": 255,
   "outputs": [],
   "source": [
    "spId_res = requests.get('https://static.api.nexon.co.kr/fifaonline4/latest/spid.json')\n",
    "\n",
    "if spId_res.status_code == 200:\n",
    "    spId_parsed_data = spId_res.json()\n",
    "    spId_data = pd.DataFrame(spId_parsed_data)\n",
    "elif spId_res.status_code == 404:\n",
    "    print('Not Found.')\n",
    "else:\n",
    "    print('An error has occurred.')\n",
    "\n",
    "uefa19_data = spId_data.loc[spId_data['id'].astype(str).str.startswith('221')]\n",
    "uefa20_data = spId_data.loc[spId_data['id'].astype(str).str.startswith('242')]\n",
    "uefa21_data = spId_data.loc[spId_data['id'].astype(str).str.startswith('260')]"
   ],
   "metadata": {
    "collapsed": false,
    "pycharm": {
     "name": "#%%\n"
    }
   }
  },
  {
   "cell_type": "code",
   "execution_count": 256,
   "outputs": [
    {
     "data": {
      "text/plain": "             id        name\n6819  260002147  M. 스테켈렌뷔르흐\n6820  260020801  크리스티아누 호날두\n6821  260124375     부라크 일마즈\n6822  260135507       페르난지뉴\n6823  260138412      제임스 밀너",
      "text/html": "<div>\n<style scoped>\n    .dataframe tbody tr th:only-of-type {\n        vertical-align: middle;\n    }\n\n    .dataframe tbody tr th {\n        vertical-align: top;\n    }\n\n    .dataframe thead th {\n        text-align: right;\n    }\n</style>\n<table border=\"1\" class=\"dataframe\">\n  <thead>\n    <tr style=\"text-align: right;\">\n      <th></th>\n      <th>id</th>\n      <th>name</th>\n    </tr>\n  </thead>\n  <tbody>\n    <tr>\n      <th>6819</th>\n      <td>260002147</td>\n      <td>M. 스테켈렌뷔르흐</td>\n    </tr>\n    <tr>\n      <th>6820</th>\n      <td>260020801</td>\n      <td>크리스티아누 호날두</td>\n    </tr>\n    <tr>\n      <th>6821</th>\n      <td>260124375</td>\n      <td>부라크 일마즈</td>\n    </tr>\n    <tr>\n      <th>6822</th>\n      <td>260135507</td>\n      <td>페르난지뉴</td>\n    </tr>\n    <tr>\n      <th>6823</th>\n      <td>260138412</td>\n      <td>제임스 밀너</td>\n    </tr>\n  </tbody>\n</table>\n</div>"
     },
     "execution_count": 256,
     "metadata": {},
     "output_type": "execute_result"
    }
   ],
   "source": [
    "uefa21_data.head()"
   ],
   "metadata": {
    "collapsed": false,
    "pycharm": {
     "name": "#%%\n"
    }
   }
  },
  {
   "cell_type": "markdown",
   "source": [
    "분석에 필요한 데이터는 첼시 선수들 한정이므로 팀 구분자를 제공해주면 좋겠지만 아쉽게도 제공해주지 않네요.\n",
    "첼시 선수 명단을 직접 넣어줘야 할 것 같습니다."
   ],
   "metadata": {
    "collapsed": false,
    "pycharm": {
     "name": "#%% md\n"
    }
   }
  },
  {
   "cell_type": "code",
   "execution_count": 257,
   "outputs": [],
   "source": [
    "chelsea_player = [\n",
    "    '안토니오 뤼디거',\n",
    "    '티아구 실바',\n",
    "    '티모 베르너',\n",
    "    '에두아르 멘디',\n",
    "    'A. 크리스텐센',\n",
    "    '리스 제임스',\n",
    "    '로멜루 루카쿠',\n",
    "    '조르지뉴',\n",
    "    '하킴 지예시',\n",
    "    'C. 허드슨-오도이',\n",
    "    '아스필리쿠에타',\n",
    "    '루벤 로프터스-칙',\n",
    "    '카이 하베르츠',\n",
    "    '트레보 찰로바',\n",
    "    '메이슨 마운트',\n",
    "    '마르코스 알론소',\n",
    "    '벤 칠웰',\n",
    "    '사울',\n",
    "    '은골로 캉테',\n",
    "    '크리스천 풀리식',\n",
    "    '말랑 사르',\n",
    "    '로스 바클리',\n",
    "    '케파',\n",
    "    'M. 베티넬리'\n",
    "]\n",
    "\n",
    "uefa19_chelsea_data = uefa19_data.loc[spId_data['name'].str.contains('|'.join(chelsea_player))]\n",
    "uefa20_chelsea_data = uefa20_data.loc[spId_data['name'].str.contains('|'.join(chelsea_player))]\n",
    "uefa21_chelsea_data = uefa21_data.loc[spId_data['name'].str.contains('|'.join(chelsea_player))]"
   ],
   "metadata": {
    "collapsed": false,
    "pycharm": {
     "name": "#%%\n"
    }
   }
  },
  {
   "cell_type": "code",
   "execution_count": 258,
   "outputs": [
    {
     "data": {
      "text/plain": "             id      name\n6833  260164240    티아구 실바\n6862  260184432   아스필리쿠에타\n6884  260192505   로멜루 루카쿠\n6885  260192638  마르코스 알론소\n6909  260199189    로스 바클리",
      "text/html": "<div>\n<style scoped>\n    .dataframe tbody tr th:only-of-type {\n        vertical-align: middle;\n    }\n\n    .dataframe tbody tr th {\n        vertical-align: top;\n    }\n\n    .dataframe thead th {\n        text-align: right;\n    }\n</style>\n<table border=\"1\" class=\"dataframe\">\n  <thead>\n    <tr style=\"text-align: right;\">\n      <th></th>\n      <th>id</th>\n      <th>name</th>\n    </tr>\n  </thead>\n  <tbody>\n    <tr>\n      <th>6833</th>\n      <td>260164240</td>\n      <td>티아구 실바</td>\n    </tr>\n    <tr>\n      <th>6862</th>\n      <td>260184432</td>\n      <td>아스필리쿠에타</td>\n    </tr>\n    <tr>\n      <th>6884</th>\n      <td>260192505</td>\n      <td>로멜루 루카쿠</td>\n    </tr>\n    <tr>\n      <th>6885</th>\n      <td>260192638</td>\n      <td>마르코스 알론소</td>\n    </tr>\n    <tr>\n      <th>6909</th>\n      <td>260199189</td>\n      <td>로스 바클리</td>\n    </tr>\n  </tbody>\n</table>\n</div>"
     },
     "execution_count": 258,
     "metadata": {},
     "output_type": "execute_result"
    }
   ],
   "source": [
    "uefa21_chelsea_data.head()"
   ],
   "metadata": {
    "collapsed": false,
    "pycharm": {
     "name": "#%%\n"
    }
   }
  },
  {
   "cell_type": "markdown",
   "source": [
    "### 데이터 크롤링\n",
    "각 선수들의 데이터 조회는 피파온라인4 데이터센터 사이트의 선수 상세 정보 페이지에서 크롤링 하는 방향으로 진행해야 할 것 같습니다.\n",
    "\n",
    "https://fifaonline4.nexon.com/DataCenter/PlayerInfo?spid={선수 고유 식별자}"
   ],
   "metadata": {
    "collapsed": false,
    "pycharm": {
     "name": "#%% md\n"
    }
   }
  },
  {
   "cell_type": "code",
   "execution_count": 249,
   "outputs": [],
   "source": [
    "url = 'https://fifaonline4.nexon.com/DataCenter/PlayerInfo?spid='\n",
    "player_simple_19_df = pd.DataFrame()\n",
    "player_detail_19_df = pd.DataFrame()\n",
    "player_simple_20_df = pd.DataFrame()\n",
    "player_detail_20_df = pd.DataFrame()\n",
    "player_simple_21_df = pd.DataFrame()\n",
    "player_detail_21_df = pd.DataFrame()\n",
    "\n",
    "for idx, val in enumerate(uefa19_chelsea_data['id']):\n",
    "    response = requests.get(url + str(val))\n",
    "\n",
    "    if response.status_code == 200:\n",
    "        html = response.text\n",
    "        soup = BeautifulSoup(html, 'html.parser')\n",
    "        name = soup.select_one('#middle .datacenter .player_view .content_header .info_name .name').getText()\n",
    "        position = soup.select_one('#middle .datacenter .player_view .content_header .thumb .position').getText()\n",
    "        overall = soup.select_one('#middle .datacenter .player_view .content_header .thumb .ovr').getText()\n",
    "        birth = soup.select_one('#middle .datacenter .player_view .content_header .info_etc .birth').getText().strip()\n",
    "        height = soup.select_one('#middle .datacenter .player_view .content_header .info_etc .height').getText()\n",
    "        weight = soup.select_one('#middle .datacenter .player_view .content_header .info_etc .weight').getText()\n",
    "        physical = soup.select_one('#middle .datacenter .player_view .content_header .info_etc .physical').getText()\n",
    "        skill = soup.select_one('#middle .datacenter .player_view .content_header .info_etc .skill').getText().strip()\n",
    "        foot = soup.select_one('#middle .datacenter .player_view .content_header .info_etc .foot').getText().strip()\n",
    "        season = soup.select_one('#middle .datacenter .player_view .content_header .info_etc .season').getText()\n",
    "        team = soup.select_one('#middle .datacenter .player_view .content_header .info_team .team .txt').getText()\n",
    "        nation = soup.select_one('#middle .datacenter .player_view .content_header .info_team .nation .txt').getText()\n",
    "        skill_wrap = soup.select_one('#middle .datacenter .player_view .content_header .skill_wrap').getText()\n",
    "        simple_stats = soup.select('#middle .datacenter .player_view .content_middle .txt')\n",
    "        simple_values = soup.select('#middle .datacenter .player_view .content_middle .value')\n",
    "        detail_stats = soup.select('#middle .datacenter .player_view .content_bottom .txt')\n",
    "        detail_values = soup.select('#middle .datacenter .player_view .content_bottom .value')\n",
    "\n",
    "        player_simple_data = pd.DataFrame([{'name':name}])\n",
    "        player_simple_data['position'] = position\n",
    "        player_simple_data['overall'] = overall\n",
    "        player_simple_data['birth'] = birth\n",
    "        player_simple_data['height'] = height\n",
    "        player_simple_data['weight'] = weight\n",
    "        player_simple_data['physical'] = physical\n",
    "        player_simple_data['skill'] = skill\n",
    "        player_simple_data['foot'] = foot\n",
    "        player_simple_data['season'] = season\n",
    "        player_simple_data['team'] = team\n",
    "        player_simple_data['nation'] = nation\n",
    "        player_simple_data['skill_wrap'] = re.sub(\"\\s|특성\", \"\", skill_wrap)\n",
    "        for s, v in zip(simple_stats, simple_values):\n",
    "            player_simple_data[s.getText()] = v.getText()\n",
    "        player_simple_19_df = pd.concat([player_simple_19_df, player_simple_data])\n",
    "\n",
    "        player_detail_data = pd.DataFrame([{'name':name}])\n",
    "        player_detail_data['position'] = position\n",
    "        player_detail_data['overall'] = overall\n",
    "        player_detail_data['birth'] = birth\n",
    "        player_detail_data['height'] = height\n",
    "        player_detail_data['weight'] = weight\n",
    "        player_detail_data['physical'] = physical\n",
    "        player_detail_data['skill'] = skill\n",
    "        player_detail_data['foot'] = foot\n",
    "        player_detail_data['season'] = season\n",
    "        player_detail_data['team'] = team\n",
    "        player_detail_data['nation'] = nation\n",
    "        player_detail_data['skill_wrap'] = re.sub(\"\\s|특성\", \"\", skill_wrap)\n",
    "        for s, v in zip(detail_stats, detail_values):\n",
    "            player_detail_data[s.getText()] = v.getText()\n",
    "        player_detail_19_df = pd.concat([player_detail_19_df, player_detail_data])\n",
    "\n",
    "    elif response.status_code == 404:\n",
    "        print('Not Found.')\n",
    "    else:\n",
    "        print('An error has occurred.')\n",
    "\n",
    "for idx, val in enumerate(uefa20_chelsea_data['id']):\n",
    "    response = requests.get(url + str(val))\n",
    "\n",
    "    if response.status_code == 200:\n",
    "        html = response.text\n",
    "        soup = BeautifulSoup(html, 'html.parser')\n",
    "        name = soup.select_one('#middle .datacenter .player_view .content_header .info_name .name').getText()\n",
    "        position = soup.select_one('#middle .datacenter .player_view .content_header .thumb .position').getText()\n",
    "        overall = soup.select_one('#middle .datacenter .player_view .content_header .thumb .ovr').getText()\n",
    "        birth = soup.select_one('#middle .datacenter .player_view .content_header .info_etc .birth').getText().strip()\n",
    "        height = soup.select_one('#middle .datacenter .player_view .content_header .info_etc .height').getText()\n",
    "        weight = soup.select_one('#middle .datacenter .player_view .content_header .info_etc .weight').getText()\n",
    "        physical = soup.select_one('#middle .datacenter .player_view .content_header .info_etc .physical').getText()\n",
    "        skill = soup.select_one('#middle .datacenter .player_view .content_header .info_etc .skill').getText().strip()\n",
    "        foot = soup.select_one('#middle .datacenter .player_view .content_header .info_etc .foot').getText().strip()\n",
    "        season = soup.select_one('#middle .datacenter .player_view .content_header .info_etc .season').getText()\n",
    "        team = soup.select_one('#middle .datacenter .player_view .content_header .info_team .team .txt').getText()\n",
    "        nation = soup.select_one('#middle .datacenter .player_view .content_header .info_team .nation .txt').getText()\n",
    "        skill_wrap = soup.select_one('#middle .datacenter .player_view .content_header .skill_wrap').getText()\n",
    "        simple_stats = soup.select('#middle .datacenter .player_view .content_middle .txt')\n",
    "        simple_values = soup.select('#middle .datacenter .player_view .content_middle .value')\n",
    "        detail_stats = soup.select('#middle .datacenter .player_view .content_bottom .txt')\n",
    "        detail_values = soup.select('#middle .datacenter .player_view .content_bottom .value')\n",
    "\n",
    "        player_simple_data = pd.DataFrame([{'name':name}])\n",
    "        player_simple_data['position'] = position\n",
    "        player_simple_data['overall'] = overall\n",
    "        player_simple_data['birth'] = birth\n",
    "        player_simple_data['height'] = height\n",
    "        player_simple_data['weight'] = weight\n",
    "        player_simple_data['physical'] = physical\n",
    "        player_simple_data['skill'] = skill\n",
    "        player_simple_data['foot'] = foot\n",
    "        player_simple_data['season'] = season\n",
    "        player_simple_data['team'] = team\n",
    "        player_simple_data['nation'] = nation\n",
    "        player_simple_data['skill_wrap'] = re.sub(\"\\s|특성\", \"\", skill_wrap)\n",
    "        for s, v in zip(simple_stats, simple_values):\n",
    "            player_simple_data[s.getText()] = v.getText()\n",
    "        player_simple_20_df = pd.concat([player_simple_20_df, player_simple_data])\n",
    "\n",
    "        player_detail_data = pd.DataFrame([{'name':name}])\n",
    "        player_detail_data['position'] = position\n",
    "        player_detail_data['overall'] = overall\n",
    "        player_detail_data['birth'] = birth\n",
    "        player_detail_data['height'] = height\n",
    "        player_detail_data['weight'] = weight\n",
    "        player_detail_data['physical'] = physical\n",
    "        player_detail_data['skill'] = skill\n",
    "        player_detail_data['foot'] = foot\n",
    "        player_detail_data['season'] = season\n",
    "        player_detail_data['team'] = team\n",
    "        player_detail_data['nation'] = nation\n",
    "        player_detail_data['skill_wrap'] = re.sub(\"\\s|특성\", \"\", skill_wrap)\n",
    "        for s, v in zip(detail_stats, detail_values):\n",
    "            player_detail_data[s.getText()] = v.getText()\n",
    "        player_detail_20_df = pd.concat([player_detail_20_df, player_detail_data])\n",
    "\n",
    "    elif response.status_code == 404:\n",
    "        print('Not Found.')\n",
    "    else:\n",
    "        print('An error has occurred.')\n",
    "\n",
    "for idx, val in enumerate(uefa21_chelsea_data['id']):\n",
    "    response = requests.get(url + str(val))\n",
    "\n",
    "    if response.status_code == 200:\n",
    "        html = response.text\n",
    "        soup = BeautifulSoup(html, 'html.parser')\n",
    "        name = soup.select_one('#middle .datacenter .player_view .content_header .info_name .name').getText()\n",
    "        position = soup.select_one('#middle .datacenter .player_view .content_header .thumb .position').getText()\n",
    "        overall = soup.select_one('#middle .datacenter .player_view .content_header .thumb .ovr').getText()\n",
    "        birth = soup.select_one('#middle .datacenter .player_view .content_header .info_etc .birth').getText().strip()\n",
    "        height = soup.select_one('#middle .datacenter .player_view .content_header .info_etc .height').getText()\n",
    "        weight = soup.select_one('#middle .datacenter .player_view .content_header .info_etc .weight').getText()\n",
    "        physical = soup.select_one('#middle .datacenter .player_view .content_header .info_etc .physical').getText()\n",
    "        skill = soup.select_one('#middle .datacenter .player_view .content_header .info_etc .skill').getText().strip()\n",
    "        foot = soup.select_one('#middle .datacenter .player_view .content_header .info_etc .foot').getText().strip()\n",
    "        season = soup.select_one('#middle .datacenter .player_view .content_header .info_etc .season').getText()\n",
    "        team = soup.select_one('#middle .datacenter .player_view .content_header .info_team .team .txt').getText()\n",
    "        nation = soup.select_one('#middle .datacenter .player_view .content_header .info_team .nation .txt').getText()\n",
    "        skill_wrap = soup.select_one('#middle .datacenter .player_view .content_header .skill_wrap').getText()\n",
    "        simple_stats = soup.select('#middle .datacenter .player_view .content_middle .txt')\n",
    "        simple_values = soup.select('#middle .datacenter .player_view .content_middle .value')\n",
    "        detail_stats = soup.select('#middle .datacenter .player_view .content_bottom .txt')\n",
    "        detail_values = soup.select('#middle .datacenter .player_view .content_bottom .value')\n",
    "\n",
    "        player_simple_data = pd.DataFrame([{'name':name}])\n",
    "        player_simple_data['position'] = position\n",
    "        player_simple_data['overall'] = overall\n",
    "        player_simple_data['birth'] = birth\n",
    "        player_simple_data['height'] = height\n",
    "        player_simple_data['weight'] = weight\n",
    "        player_simple_data['physical'] = physical\n",
    "        player_simple_data['skill'] = skill\n",
    "        player_simple_data['foot'] = foot\n",
    "        player_simple_data['season'] = season\n",
    "        player_simple_data['team'] = team\n",
    "        player_simple_data['nation'] = nation\n",
    "        player_simple_data['skill_wrap'] = re.sub(\"\\s|특성\", \"\", skill_wrap)\n",
    "        for s, v in zip(simple_stats, simple_values):\n",
    "            player_simple_data[s.getText()] = v.getText()\n",
    "        player_simple_21_df = pd.concat([player_simple_21_df, player_simple_data])\n",
    "\n",
    "        player_detail_data = pd.DataFrame([{'name':name}])\n",
    "        player_detail_data['position'] = position\n",
    "        player_detail_data['overall'] = overall\n",
    "        player_detail_data['birth'] = birth\n",
    "        player_detail_data['height'] = height\n",
    "        player_detail_data['weight'] = weight\n",
    "        player_detail_data['physical'] = physical\n",
    "        player_detail_data['skill'] = skill\n",
    "        player_detail_data['foot'] = foot\n",
    "        player_detail_data['season'] = season\n",
    "        player_detail_data['team'] = team\n",
    "        player_detail_data['nation'] = nation\n",
    "        player_detail_data['skill_wrap'] = re.sub(\"\\s|특성\", \"\", skill_wrap)\n",
    "        for s, v in zip(detail_stats, detail_values):\n",
    "            player_detail_data[s.getText()] = v.getText()\n",
    "        player_detail_21_df = pd.concat([player_detail_21_df, player_detail_data])\n",
    "\n",
    "    elif response.status_code == 404:\n",
    "        print('Not Found.')\n",
    "    else:\n",
    "        print('An error has occurred.')\n",
    "\n",
    "with pd.ExcelWriter('player_data.xlsx') as writer:\n",
    "    player_simple_19_df.to_excel(writer, sheet_name='simple_19', index=False)\n",
    "    player_detail_19_df.to_excel(writer, sheet_name='detail_19', index=False)\n",
    "    player_simple_20_df.to_excel(writer, sheet_name='simple_20', index=False)\n",
    "    player_detail_20_df.to_excel(writer, sheet_name='detail_20', index=False)\n",
    "    player_simple_21_df.to_excel(writer, sheet_name='simple_21', index=False)\n",
    "    player_detail_21_df.to_excel(writer, sheet_name='detail_21', index=False)"
   ],
   "metadata": {
    "collapsed": false,
    "pycharm": {
     "name": "#%%\n"
    }
   }
  },
  {
   "cell_type": "code",
   "execution_count": 259,
   "outputs": [
    {
     "data": {
      "text/plain": "       name position overall             birth height weight physical   skill  \\\n0    티아구 실바       CB      99  1984.09.22 (39세)  183cm   79kg       보통  ★★☆☆☆☆   \n0   아스필리쿠에타       CB      95  1989.08.28 (34세)  178cm   77kg       보통  ★★☆☆☆☆   \n0   로멜루 루카쿠       ST      97  1993.05.13 (30세)  191cm   94kg       건장  ★★★☆☆☆   \n0  마르코스 알론소      LWB      92  1990.12.28 (33세)  188cm   85kg       마름  ★★★☆☆☆   \n0    로스 바클리      CAM      85  1993.12.05 (30세)  186cm   76kg       보통  ★★★★☆☆   \n\n      foot season  ...    슛   패스  드리블    수비  피지컬  다이빙  핸들링    킥 반응속도 위치선정  \n0  L4 – R5  월드클래스  ...  73   94   93   100   96   NaN  NaN  NaN  NaN  NaN  \n0  L4 – R5   탑클래스  ...  69   90   90    97   93   NaN  NaN  NaN  NaN  NaN  \n0  L5 – R4  월드클래스  ...  98   80   88    43   98   NaN  NaN  NaN  NaN  NaN  \n0  L5 – R3   유명선수  ...  84   93   90    91   95   NaN  NaN  NaN  NaN  NaN  \n0  L5 – R5   유명선수  ...  80   83   88    66   87   NaN  NaN  NaN  NaN  NaN  \n\n[5 rows x 24 columns]",
      "text/html": "<div>\n<style scoped>\n    .dataframe tbody tr th:only-of-type {\n        vertical-align: middle;\n    }\n\n    .dataframe tbody tr th {\n        vertical-align: top;\n    }\n\n    .dataframe thead th {\n        text-align: right;\n    }\n</style>\n<table border=\"1\" class=\"dataframe\">\n  <thead>\n    <tr style=\"text-align: right;\">\n      <th></th>\n      <th>name</th>\n      <th>position</th>\n      <th>overall</th>\n      <th>birth</th>\n      <th>height</th>\n      <th>weight</th>\n      <th>physical</th>\n      <th>skill</th>\n      <th>foot</th>\n      <th>season</th>\n      <th>...</th>\n      <th>슛</th>\n      <th>패스</th>\n      <th>드리블</th>\n      <th>수비</th>\n      <th>피지컬</th>\n      <th>다이빙</th>\n      <th>핸들링</th>\n      <th>킥</th>\n      <th>반응속도</th>\n      <th>위치선정</th>\n    </tr>\n  </thead>\n  <tbody>\n    <tr>\n      <th>0</th>\n      <td>티아구 실바</td>\n      <td>CB</td>\n      <td>99</td>\n      <td>1984.09.22 (39세)</td>\n      <td>183cm</td>\n      <td>79kg</td>\n      <td>보통</td>\n      <td>★★☆☆☆☆</td>\n      <td>L4 – R5</td>\n      <td>월드클래스</td>\n      <td>...</td>\n      <td>73</td>\n      <td>94</td>\n      <td>93</td>\n      <td>100</td>\n      <td>96</td>\n      <td>NaN</td>\n      <td>NaN</td>\n      <td>NaN</td>\n      <td>NaN</td>\n      <td>NaN</td>\n    </tr>\n    <tr>\n      <th>0</th>\n      <td>아스필리쿠에타</td>\n      <td>CB</td>\n      <td>95</td>\n      <td>1989.08.28 (34세)</td>\n      <td>178cm</td>\n      <td>77kg</td>\n      <td>보통</td>\n      <td>★★☆☆☆☆</td>\n      <td>L4 – R5</td>\n      <td>탑클래스</td>\n      <td>...</td>\n      <td>69</td>\n      <td>90</td>\n      <td>90</td>\n      <td>97</td>\n      <td>93</td>\n      <td>NaN</td>\n      <td>NaN</td>\n      <td>NaN</td>\n      <td>NaN</td>\n      <td>NaN</td>\n    </tr>\n    <tr>\n      <th>0</th>\n      <td>로멜루 루카쿠</td>\n      <td>ST</td>\n      <td>97</td>\n      <td>1993.05.13 (30세)</td>\n      <td>191cm</td>\n      <td>94kg</td>\n      <td>건장</td>\n      <td>★★★☆☆☆</td>\n      <td>L5 – R4</td>\n      <td>월드클래스</td>\n      <td>...</td>\n      <td>98</td>\n      <td>80</td>\n      <td>88</td>\n      <td>43</td>\n      <td>98</td>\n      <td>NaN</td>\n      <td>NaN</td>\n      <td>NaN</td>\n      <td>NaN</td>\n      <td>NaN</td>\n    </tr>\n    <tr>\n      <th>0</th>\n      <td>마르코스 알론소</td>\n      <td>LWB</td>\n      <td>92</td>\n      <td>1990.12.28 (33세)</td>\n      <td>188cm</td>\n      <td>85kg</td>\n      <td>마름</td>\n      <td>★★★☆☆☆</td>\n      <td>L5 – R3</td>\n      <td>유명선수</td>\n      <td>...</td>\n      <td>84</td>\n      <td>93</td>\n      <td>90</td>\n      <td>91</td>\n      <td>95</td>\n      <td>NaN</td>\n      <td>NaN</td>\n      <td>NaN</td>\n      <td>NaN</td>\n      <td>NaN</td>\n    </tr>\n    <tr>\n      <th>0</th>\n      <td>로스 바클리</td>\n      <td>CAM</td>\n      <td>85</td>\n      <td>1993.12.05 (30세)</td>\n      <td>186cm</td>\n      <td>76kg</td>\n      <td>보통</td>\n      <td>★★★★☆☆</td>\n      <td>L5 – R5</td>\n      <td>유명선수</td>\n      <td>...</td>\n      <td>80</td>\n      <td>83</td>\n      <td>88</td>\n      <td>66</td>\n      <td>87</td>\n      <td>NaN</td>\n      <td>NaN</td>\n      <td>NaN</td>\n      <td>NaN</td>\n      <td>NaN</td>\n    </tr>\n  </tbody>\n</table>\n<p>5 rows × 24 columns</p>\n</div>"
     },
     "execution_count": 259,
     "metadata": {},
     "output_type": "execute_result"
    }
   ],
   "source": [
    "player_simple_21_df.head()"
   ],
   "metadata": {
    "collapsed": false,
    "pycharm": {
     "name": "#%%\n"
    }
   }
  },
  {
   "cell_type": "code",
   "execution_count": 260,
   "outputs": [
    {
     "data": {
      "text/plain": "       name position overall             birth height weight physical   skill  \\\n0    티아구 실바       CB      99  1984.09.22 (39세)  183cm   79kg       보통  ★★☆☆☆☆   \n0   아스필리쿠에타       CB      95  1989.08.28 (34세)  178cm   77kg       보통  ★★☆☆☆☆   \n0   로멜루 루카쿠       ST      97  1993.05.13 (30세)  191cm   94kg       건장  ★★★☆☆☆   \n0  마르코스 알론소      LWB      92  1990.12.28 (33세)  188cm   85kg       마름  ★★★☆☆☆   \n0    로스 바클리      CAM      85  1993.12.05 (30세)  186cm   76kg       보통  ★★★★☆☆   \n\n      foot season  ...  몸싸움 스태미너  적극성   점프  침착성 GK 다이빙 GK 핸들링 GK 킥 GK 반응속도  \\\n0  L4 – R5  월드클래스  ...   99   88   96  106  105     13     10   10       8   \n0  L4 – R5   탑클래스  ...   85   99  104   99   91      9      8   16      13   \n0  L5 – R4  월드클래스  ...  108   88   92   90   95     12     11    8      10   \n0  L5 – R3   유명선수  ...   94   99   96   86   92     11     11    8      11   \n0  L5 – R5   유명선수  ...   92   80   90   77   86     16     11   14      12   \n\n  GK 위치선정  \n0       8  \n0      14  \n0      15  \n0      16  \n0      11  \n\n[5 rows x 47 columns]",
      "text/html": "<div>\n<style scoped>\n    .dataframe tbody tr th:only-of-type {\n        vertical-align: middle;\n    }\n\n    .dataframe tbody tr th {\n        vertical-align: top;\n    }\n\n    .dataframe thead th {\n        text-align: right;\n    }\n</style>\n<table border=\"1\" class=\"dataframe\">\n  <thead>\n    <tr style=\"text-align: right;\">\n      <th></th>\n      <th>name</th>\n      <th>position</th>\n      <th>overall</th>\n      <th>birth</th>\n      <th>height</th>\n      <th>weight</th>\n      <th>physical</th>\n      <th>skill</th>\n      <th>foot</th>\n      <th>season</th>\n      <th>...</th>\n      <th>몸싸움</th>\n      <th>스태미너</th>\n      <th>적극성</th>\n      <th>점프</th>\n      <th>침착성</th>\n      <th>GK 다이빙</th>\n      <th>GK 핸들링</th>\n      <th>GK 킥</th>\n      <th>GK 반응속도</th>\n      <th>GK 위치선정</th>\n    </tr>\n  </thead>\n  <tbody>\n    <tr>\n      <th>0</th>\n      <td>티아구 실바</td>\n      <td>CB</td>\n      <td>99</td>\n      <td>1984.09.22 (39세)</td>\n      <td>183cm</td>\n      <td>79kg</td>\n      <td>보통</td>\n      <td>★★☆☆☆☆</td>\n      <td>L4 – R5</td>\n      <td>월드클래스</td>\n      <td>...</td>\n      <td>99</td>\n      <td>88</td>\n      <td>96</td>\n      <td>106</td>\n      <td>105</td>\n      <td>13</td>\n      <td>10</td>\n      <td>10</td>\n      <td>8</td>\n      <td>8</td>\n    </tr>\n    <tr>\n      <th>0</th>\n      <td>아스필리쿠에타</td>\n      <td>CB</td>\n      <td>95</td>\n      <td>1989.08.28 (34세)</td>\n      <td>178cm</td>\n      <td>77kg</td>\n      <td>보통</td>\n      <td>★★☆☆☆☆</td>\n      <td>L4 – R5</td>\n      <td>탑클래스</td>\n      <td>...</td>\n      <td>85</td>\n      <td>99</td>\n      <td>104</td>\n      <td>99</td>\n      <td>91</td>\n      <td>9</td>\n      <td>8</td>\n      <td>16</td>\n      <td>13</td>\n      <td>14</td>\n    </tr>\n    <tr>\n      <th>0</th>\n      <td>로멜루 루카쿠</td>\n      <td>ST</td>\n      <td>97</td>\n      <td>1993.05.13 (30세)</td>\n      <td>191cm</td>\n      <td>94kg</td>\n      <td>건장</td>\n      <td>★★★☆☆☆</td>\n      <td>L5 – R4</td>\n      <td>월드클래스</td>\n      <td>...</td>\n      <td>108</td>\n      <td>88</td>\n      <td>92</td>\n      <td>90</td>\n      <td>95</td>\n      <td>12</td>\n      <td>11</td>\n      <td>8</td>\n      <td>10</td>\n      <td>15</td>\n    </tr>\n    <tr>\n      <th>0</th>\n      <td>마르코스 알론소</td>\n      <td>LWB</td>\n      <td>92</td>\n      <td>1990.12.28 (33세)</td>\n      <td>188cm</td>\n      <td>85kg</td>\n      <td>마름</td>\n      <td>★★★☆☆☆</td>\n      <td>L5 – R3</td>\n      <td>유명선수</td>\n      <td>...</td>\n      <td>94</td>\n      <td>99</td>\n      <td>96</td>\n      <td>86</td>\n      <td>92</td>\n      <td>11</td>\n      <td>11</td>\n      <td>8</td>\n      <td>11</td>\n      <td>16</td>\n    </tr>\n    <tr>\n      <th>0</th>\n      <td>로스 바클리</td>\n      <td>CAM</td>\n      <td>85</td>\n      <td>1993.12.05 (30세)</td>\n      <td>186cm</td>\n      <td>76kg</td>\n      <td>보통</td>\n      <td>★★★★☆☆</td>\n      <td>L5 – R5</td>\n      <td>유명선수</td>\n      <td>...</td>\n      <td>92</td>\n      <td>80</td>\n      <td>90</td>\n      <td>77</td>\n      <td>86</td>\n      <td>16</td>\n      <td>11</td>\n      <td>14</td>\n      <td>12</td>\n      <td>11</td>\n    </tr>\n  </tbody>\n</table>\n<p>5 rows × 47 columns</p>\n</div>"
     },
     "execution_count": 260,
     "metadata": {},
     "output_type": "execute_result"
    }
   ],
   "source": [
    "player_detail_21_df.head()"
   ],
   "metadata": {
    "collapsed": false,
    "pycharm": {
     "name": "#%%\n"
    }
   }
  }
 ],
 "metadata": {
  "kernelspec": {
   "display_name": "Python 3",
   "language": "python",
   "name": "python3"
  },
  "language_info": {
   "codemirror_mode": {
    "name": "ipython",
    "version": 2
   },
   "file_extension": ".py",
   "mimetype": "text/x-python",
   "name": "python",
   "nbconvert_exporter": "python",
   "pygments_lexer": "ipython2",
   "version": "2.7.6"
  }
 },
 "nbformat": 4,
 "nbformat_minor": 0
}