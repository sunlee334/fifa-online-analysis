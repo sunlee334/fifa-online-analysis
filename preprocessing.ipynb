{
 "cells": [
  {
   "cell_type": "markdown",
   "metadata": {
    "collapsed": true,
    "pycharm": {
     "name": "#%% md\n"
    }
   },
   "source": [
    "## 데이터 전처리\n",
    "데이터 분석에 앞서, 분석에 필요한 데이터들로 전처리 작업을 해줍니다."
   ]
  },
  {
   "cell_type": "markdown",
   "source": [
    "### 패키지 설치"
   ],
   "metadata": {
    "collapsed": false,
    "pycharm": {
     "name": "#%% md\n"
    }
   }
  },
  {
   "cell_type": "code",
   "execution_count": 239,
   "outputs": [],
   "source": [
    "import requests\n",
    "import pandas as pd\n",
    "import numpy as np\n",
    "from dotenv import load_dotenv\n",
    "import os\n",
    "from bs4 import BeautifulSoup\n",
    "import re"
   ],
   "metadata": {
    "collapsed": false,
    "pycharm": {
     "name": "#%%\n"
    }
   }
  },
  {
   "cell_type": "code",
   "execution_count": 64,
   "outputs": [],
   "source": [
    "load_dotenv()\n",
    "api_key = os.environ.get('API_KEY')"
   ],
   "metadata": {
    "collapsed": false,
    "pycharm": {
     "name": "#%%\n"
    }
   }
  },
  {
   "cell_type": "markdown",
   "source": [
    "### 시즌아이디(seasonId) 메타데이터 조회\n",
    "필요한 데이터는 챔피언스리그 시즌 데이터 이므로 챔피언스리그 시즌에 대응하는 아이디 값만 필터링 해줍니다."
   ],
   "metadata": {
    "collapsed": false,
    "pycharm": {
     "name": "#%% md\n"
    }
   }
  },
  {
   "cell_type": "code",
   "execution_count": 69,
   "outputs": [
    {
     "name": "stdout",
     "output_type": "stream",
     "text": [
      "    seasonId                          className  \\\n",
      "16       221  19 UCL (19 UEFA Champions League)   \n",
      "29       242  20 UCL (20 UEFA Champions League)   \n",
      "42       260  21 UCL (21 UEFA Champions League)   \n",
      "\n",
      "                                            seasonImg  \n",
      "16  https://ssl.nexon.com/s2/game/fo4/obt/external...  \n",
      "29  https://ssl.nexon.com/s2/game/fo4/obt/external...  \n",
      "42  https://ssl.nexon.com/s2/game/fo4/obt/external...  \n"
     ]
    }
   ],
   "source": [
    "seasonId_res = requests.get('https://static.api.nexon.co.kr/fifaonline4/latest/seasonid.json')\n",
    "\n",
    "if seasonId_res.status_code == 200:\n",
    "    seasonId_parsed_data = seasonId_res.json()\n",
    "    seasonId_data = pd.DataFrame(seasonId_parsed_data)\n",
    "    # print(seasonId_data)\n",
    "elif seasonId_res.status_code == 404:\n",
    "    print('Not Found.')\n",
    "else:\n",
    "    print('An error has occurred.')\n",
    "\n",
    "uefa_data = seasonId_data.loc[seasonId_data['className'].str.contains('UEFA')]\n",
    "print(uefa_data)"
   ],
   "metadata": {
    "collapsed": false,
    "pycharm": {
     "name": "#%%\n"
    }
   }
  },
  {
   "cell_type": "markdown",
   "source": [
    "챔피언스리그 시즌 아이디는 221, 242, 260 임을 알 수 있습니다."
   ],
   "metadata": {
    "collapsed": false,
    "pycharm": {
     "name": "#%% md\n"
    }
   }
  },
  {
   "cell_type": "markdown",
   "source": [
    "### 선수 고유 식별자(spid) 메타데이터 조회\n",
    "선수 고유 식별자는 시즌아이디 (seasonid) 3자리 + 선수아이디 (pid) 6자리로 구성되어 있습니다.\n",
    "앞서 필터링한 챔피언스리그 시즌 아이디를 사용하여 챔피언스리그에 출전한 선수들로만 추가 필터링을 해줍니다."
   ],
   "metadata": {
    "collapsed": false
   }
  },
  {
   "cell_type": "code",
   "execution_count": 80,
   "outputs": [
    {
     "name": "stdout",
     "output_type": "stream",
     "text": [
      "             id        name\n",
      "6819  260002147  M. 스테켈렌뷔르흐\n",
      "6820  260020801  크리스티아누 호날두\n",
      "6821  260124375     부라크 일마즈\n",
      "6822  260135507       페르난지뉴\n",
      "6823  260138412      제임스 밀너\n",
      "...         ...         ...\n",
      "7179  260263413      R. 시미치\n",
      "7180  260263439   파울루 베르나르두\n",
      "7181  260263943      하비 세라노\n",
      "7182  260264022   곤살루 에스테베스\n",
      "7183  260265459       T. 모턴\n",
      "\n",
      "[365 rows x 2 columns]\n"
     ]
    }
   ],
   "source": [
    "spId_res = requests.get('https://static.api.nexon.co.kr/fifaonline4/latest/spid.json')\n",
    "\n",
    "if spId_res.status_code == 200:\n",
    "    spId_parsed_data = spId_res.json()\n",
    "    spId_data = pd.DataFrame(spId_parsed_data)\n",
    "    # print(spId_data)\n",
    "elif spId_res.status_code == 404:\n",
    "    print('Not Found.')\n",
    "else:\n",
    "    print('An error has occurred.')\n",
    "\n",
    "uefa19_data = spId_data.loc[spId_data['id'].astype(str).str.startswith('221')]\n",
    "uefa20_data = spId_data.loc[spId_data['id'].astype(str).str.startswith('242')]\n",
    "uefa21_data = spId_data.loc[spId_data['id'].astype(str).str.startswith('260')]\n",
    "\n",
    "print(uefa21_data)"
   ],
   "metadata": {
    "collapsed": false,
    "pycharm": {
     "name": "#%%\n"
    }
   }
  },
  {
   "cell_type": "markdown",
   "source": [
    "분석에 필요한 데이터는 첼시 선수들 한정이므로 팀 구분자를 제공해주면 좋겠지만 아쉽게도 제공해주지 않네요.\n",
    "첼시 선수 명단을 직접 넣어줘야 할 것 같습니다."
   ],
   "metadata": {
    "collapsed": false,
    "pycharm": {
     "name": "#%% md\n"
    }
   }
  },
  {
   "cell_type": "code",
   "execution_count": 79,
   "outputs": [
    {
     "name": "stdout",
     "output_type": "stream",
     "text": [
      "             id        name\n",
      "6833  260164240      티아구 실바\n",
      "6862  260184432     아스필리쿠에타\n",
      "6884  260192505     로멜루 루카쿠\n",
      "6885  260192638    마르코스 알론소\n",
      "6909  260199189      로스 바클리\n",
      "6935  260204246     M. 베티넬리\n",
      "6943  260205452    안토니오 뤼디거\n",
      "6944  260205498        조르지뉴\n",
      "6953  260206585          케파\n",
      "6963  260208421          사울\n",
      "6965  260208670      하킴 지예시\n",
      "6984  260212188      티모 베르너\n",
      "6998  260213661    A. 크리스텐센\n",
      "6999  260213666   루벤 로프터스-칙\n",
      "7004  260215914      은골로 캉테\n",
      "7040  260227796    크리스천 풀리식\n",
      "7050  260229984        벤 칠웰\n",
      "7056  260230918     트레보 찰로바\n",
      "7069  260233064     메이슨 마운트\n",
      "7077  260234642     에두아르 멘디\n",
      "7084  260235454       말랑 사르\n",
      "7086  260235790     카이 하베르츠\n",
      "7103  260238074      리스 제임스\n",
      "7116  260240740  C. 허드슨-오도이\n"
     ]
    }
   ],
   "source": [
    "chelsea_player = [\n",
    "    '안토니오 뤼디거',\n",
    "    '티아구 실바',\n",
    "    '티모 베르너',\n",
    "    '에두아르 멘디',\n",
    "    'A. 크리스텐센',\n",
    "    '리스 제임스',\n",
    "    '로멜루 루카쿠',\n",
    "    '조르지뉴',\n",
    "    '하킴 지예시',\n",
    "    'C. 허드슨-오도이',\n",
    "    '아스필리쿠에타',\n",
    "    '루벤 로프터스-칙',\n",
    "    '카이 하베르츠',\n",
    "    '트레보 찰로바',\n",
    "    '메이슨 마운트',\n",
    "    '마르코스 알론소',\n",
    "    '벤 칠웰',\n",
    "    '사울',\n",
    "    '은골로 캉테',\n",
    "    '크리스천 풀리식',\n",
    "    '말랑 사르',\n",
    "    '로스 바클리',\n",
    "    '케파',\n",
    "    'M. 베티넬리'\n",
    "]\n",
    "\n",
    "\n",
    "uefa19_chelsea_data = uefa19_data.loc[spId_data['name'].str.contains('|'.join(chelsea_player))]\n",
    "uefa20_chelsea_data = uefa20_data.loc[spId_data['name'].str.contains('|'.join(chelsea_player))]\n",
    "uefa21_chelsea_data = uefa21_data.loc[spId_data['name'].str.contains('|'.join(chelsea_player))]\n",
    "\n",
    "print(uefa21_chelsea_data)"
   ],
   "metadata": {
    "collapsed": false,
    "pycharm": {
     "name": "#%%\n"
    }
   }
  },
  {
   "cell_type": "markdown",
   "source": [
    "### 데이터 크롤링\n",
    "각 선수들의 데이터 조회는 피파온라인4 데이터센터 사이트의 선수 상세 정보 페이지에서 크롤링 하는 방향으로 진행해야 할 것 같습니다.\n",
    "\n",
    "https://fifaonline4.nexon.com/DataCenter/PlayerInfo?spid={선수 고유 식별자}"
   ],
   "metadata": {
    "collapsed": false,
    "pycharm": {
     "name": "#%% md\n"
    }
   }
  },
  {
   "cell_type": "code",
   "execution_count": 244,
   "outputs": [
    {
     "name": "stdout",
     "output_type": "stream",
     "text": [
      "         name position overall             birth height weight physical  \\\n",
      "0      티아구 실바       CB      99  1984.09.22 (39세)  183cm   79kg       보통   \n",
      "0     아스필리쿠에타       CB      95  1989.08.28 (34세)  178cm   77kg       보통   \n",
      "0     로멜루 루카쿠       ST      97  1993.05.13 (30세)  191cm   94kg       건장   \n",
      "0    마르코스 알론소      LWB      92  1990.12.28 (33세)  188cm   85kg       마름   \n",
      "0      로스 바클리      CAM      85  1993.12.05 (30세)  186cm   76kg       보통   \n",
      "0     M. 베티넬리       GK      69  1992.05.24 (31세)  194cm   82kg       보통   \n",
      "0    안토니오 뤼디거       CB     100  1993.03.03 (30세)  190cm   85kg       마름   \n",
      "0        조르지뉴       CM      97  1991.12.20 (32세)  180cm   68kg       마름   \n",
      "0          케파       GK      77  1994.10.03 (29세)  186cm   88kg       마름   \n",
      "0          사울       CM      91  1994.11.21 (29세)  184cm   75kg       마름   \n",
      "0      하킴 지예시      CAM      97  1993.03.19 (30세)  181cm   65kg       마름   \n",
      "0      티모 베르너       ST      99  1996.03.06 (27세)  180cm   76kg       보통   \n",
      "0    A. 크리스텐센       CB      98  1996.04.10 (27세)  188cm   81kg       마름   \n",
      "0   루벤 로프터스-칙       CM      95  1996.01.23 (27세)  191cm   88kg       보통   \n",
      "0      은골로 캉테      CDM      91  1991.03.29 (32세)  168cm   70kg       보통   \n",
      "0    크리스천 풀리식       LW      89  1998.09.18 (25세)  177cm   69kg       마름   \n",
      "0        벤 칠웰      LWB      92  1996.12.21 (27세)  180cm   77kg       보통   \n",
      "0     트레보 찰로바       CB      94  1999.07.05 (24세)  191cm   84kg       마름   \n",
      "0     메이슨 마운트      CAM      94  1999.01.10 (24세)  180cm   74kg       마름   \n",
      "0     에두아르 멘디       GK      99  1992.03.01 (31세)  197cm   86kg       마름   \n",
      "0       말랑 사르       CB      88  1999.01.23 (24세)  182cm   75kg       건장   \n",
      "0     카이 하베르츠       CF      95  1999.06.11 (24세)  189cm   82kg       마름   \n",
      "0      리스 제임스      RWB      98  1999.12.08 (24세)  178cm   87kg       건장   \n",
      "0  C. 허드슨-오도이       LW      96  2000.11.07 (23세)  177cm   79kg       보통   \n",
      "\n",
      "    skill     foot season  ...     슛   패스  드리블    수비   피지컬   다이빙  핸들링    킥  \\\n",
      "0  ★★☆☆☆☆  L4 – R5  월드클래스  ...   73   94   93   100    96    NaN  NaN  NaN   \n",
      "0  ★★☆☆☆☆  L4 – R5   탑클래스  ...   69   90   90    97    93    NaN  NaN  NaN   \n",
      "0  ★★★☆☆☆  L5 – R4  월드클래스  ...   98   80   88    43    98    NaN  NaN  NaN   \n",
      "0  ★★★☆☆☆  L5 – R3   유명선수  ...   84   93   90    91    95    NaN  NaN  NaN   \n",
      "0  ★★★★☆☆  L5 – R5   유명선수  ...   80   83   88    66    87    NaN  NaN  NaN   \n",
      "0  ★☆☆☆☆☆  L3 – R5   일반선수  ...   NaN  NaN  NaN   NaN   NaN   70   67   73    \n",
      "0  ★★☆☆☆☆  L3 – R5   유명선수  ...   69   83   88   100   102    NaN  NaN  NaN   \n",
      "0  ★★☆☆☆☆  L3 – R5   유명선수  ...   71   97   92    87    84    NaN  NaN  NaN   \n",
      "0  ★☆☆☆☆☆  L4 – R5   유명선수  ...   NaN  NaN  NaN   NaN   NaN   79   76   83    \n",
      "0  ★★★☆☆☆  L5 – R4   탑클래스  ...   82   89   93    90    92    NaN  NaN  NaN   \n",
      "0  ★★★★★☆  L5 – R2   탑클래스  ...   95   99   98    70    78    NaN  NaN  NaN   \n",
      "0  ★★★☆☆☆  L4 – R5   탑클래스  ...  100   81   93    38    88    NaN  NaN  NaN   \n",
      "0  ★★☆☆☆☆  L3 – R5   유명선수  ...   71   85   86    99    96    NaN  NaN  NaN   \n",
      "0  ★★★★☆☆  L3 – R5   일반선수  ...   87   94   99    81    98    NaN  NaN  NaN   \n",
      "0  ★★☆☆☆☆  L3 – R5  월드클래스  ...   75   86   94    91    84    NaN  NaN  NaN   \n",
      "0  ★★★☆☆☆  L4 – R5   탑클래스  ...   79   84   94    57    67    NaN  NaN  NaN   \n",
      "0  ★★★☆☆☆  L5 – R3   유명선수  ...   79   88   92    90    90    NaN  NaN  NaN   \n",
      "0  ★★★☆☆☆  L3 – R5   일반선수  ...   67   78   85    96    91    NaN  NaN  NaN   \n",
      "0  ★★★★☆☆  L4 – R5   탑클래스  ...   92   95   94    75    86    NaN  NaN  NaN   \n",
      "0  ★☆☆☆☆☆  L3 – R5   유명선수  ...   NaN  NaN  NaN   NaN   NaN  101   98   89    \n",
      "0  ★★☆☆☆☆  L5 – R2   일반선수  ...   64   77   79    89    91    NaN  NaN  NaN   \n",
      "0  ★★★★☆☆  L5 – R4   탑클래스  ...   93   89   95    67    89    NaN  NaN  NaN   \n",
      "0  ★★★☆☆☆  L3 – R5   유명선수  ...   88   96   98    96   102    NaN  NaN  NaN   \n",
      "0  ★★★★☆☆  L3 – R5   유명선수  ...   87   90   98    74    85    NaN  NaN  NaN   \n",
      "\n",
      "   반응속도  위치선정  \n",
      "0   NaN   NaN  \n",
      "0   NaN   NaN  \n",
      "0   NaN   NaN  \n",
      "0   NaN   NaN  \n",
      "0   NaN   NaN  \n",
      "0   73    73   \n",
      "0   NaN   NaN  \n",
      "0   NaN   NaN  \n",
      "0   83    74   \n",
      "0   NaN   NaN  \n",
      "0   NaN   NaN  \n",
      "0   NaN   NaN  \n",
      "0   NaN   NaN  \n",
      "0   NaN   NaN  \n",
      "0   NaN   NaN  \n",
      "0   NaN   NaN  \n",
      "0   NaN   NaN  \n",
      "0   NaN   NaN  \n",
      "0   NaN   NaN  \n",
      "0  104   101   \n",
      "0   NaN   NaN  \n",
      "0   NaN   NaN  \n",
      "0   NaN   NaN  \n",
      "0   NaN   NaN  \n",
      "\n",
      "[24 rows x 24 columns]\n",
      "         name position overall             birth height weight physical  \\\n",
      "0      티아구 실바       CB      99  1984.09.22 (39세)  183cm   79kg       보통   \n",
      "0     아스필리쿠에타       CB      95  1989.08.28 (34세)  178cm   77kg       보통   \n",
      "0     로멜루 루카쿠       ST      97  1993.05.13 (30세)  191cm   94kg       건장   \n",
      "0    마르코스 알론소      LWB      92  1990.12.28 (33세)  188cm   85kg       마름   \n",
      "0      로스 바클리      CAM      85  1993.12.05 (30세)  186cm   76kg       보통   \n",
      "0     M. 베티넬리       GK      69  1992.05.24 (31세)  194cm   82kg       보통   \n",
      "0    안토니오 뤼디거       CB     100  1993.03.03 (30세)  190cm   85kg       마름   \n",
      "0        조르지뉴       CM      97  1991.12.20 (32세)  180cm   68kg       마름   \n",
      "0          케파       GK      77  1994.10.03 (29세)  186cm   88kg       마름   \n",
      "0          사울       CM      91  1994.11.21 (29세)  184cm   75kg       마름   \n",
      "0      하킴 지예시      CAM      97  1993.03.19 (30세)  181cm   65kg       마름   \n",
      "0      티모 베르너       ST      99  1996.03.06 (27세)  180cm   76kg       보통   \n",
      "0    A. 크리스텐센       CB      98  1996.04.10 (27세)  188cm   81kg       마름   \n",
      "0   루벤 로프터스-칙       CM      95  1996.01.23 (27세)  191cm   88kg       보통   \n",
      "0      은골로 캉테      CDM      91  1991.03.29 (32세)  168cm   70kg       보통   \n",
      "0    크리스천 풀리식       LW      89  1998.09.18 (25세)  177cm   69kg       마름   \n",
      "0        벤 칠웰      LWB      92  1996.12.21 (27세)  180cm   77kg       보통   \n",
      "0     트레보 찰로바       CB      94  1999.07.05 (24세)  191cm   84kg       마름   \n",
      "0     메이슨 마운트      CAM      94  1999.01.10 (24세)  180cm   74kg       마름   \n",
      "0     에두아르 멘디       GK      99  1992.03.01 (31세)  197cm   86kg       마름   \n",
      "0       말랑 사르       CB      88  1999.01.23 (24세)  182cm   75kg       건장   \n",
      "0     카이 하베르츠       CF      95  1999.06.11 (24세)  189cm   82kg       마름   \n",
      "0      리스 제임스      RWB      98  1999.12.08 (24세)  178cm   87kg       건장   \n",
      "0  C. 허드슨-오도이       LW      96  2000.11.07 (23세)  177cm   79kg       보통   \n",
      "\n",
      "    skill     foot season  ...  몸싸움 스태미너  적극성   점프  침착성 GK 다이빙 GK 핸들링 GK 킥  \\\n",
      "0  ★★☆☆☆☆  L4 – R5  월드클래스  ...   99   88   96  106  105     13     10   10   \n",
      "0  ★★☆☆☆☆  L4 – R5   탑클래스  ...   85   99  104   99   91      9      8   16   \n",
      "0  ★★★☆☆☆  L5 – R4  월드클래스  ...  108   88   92   90   95     12     11    8   \n",
      "0  ★★★☆☆☆  L5 – R3   유명선수  ...   94   99   96   86   92     11     11    8   \n",
      "0  ★★★★☆☆  L5 – R5   유명선수  ...   92   80   90   77   86     16     11   14   \n",
      "0  ★☆☆☆☆☆  L3 – R5   일반선수  ...   40   22   33   60   52     70     67   73   \n",
      "0  ★★☆☆☆☆  L3 – R5   유명선수  ...  103   97  107   98   99     12     10   10   \n",
      "0  ★★☆☆☆☆  L3 – R5   유명선수  ...   70  105   97   70   79     10     10   12   \n",
      "0  ★☆☆☆☆☆  L4 – R5   유명선수  ...   53   40   38   76   67     79     76   83   \n",
      "0  ★★★☆☆☆  L5 – R4   탑클래스  ...   89   97   97   92   89     13     11   12   \n",
      "0  ★★★★★☆  L5 – R2   탑클래스  ...   72   93   81   62   98     13      8   12   \n",
      "0  ★★★☆☆☆  L4 – R5   탑클래스  ...   91   90   83   83   90     13     10   12   \n",
      "0  ★★☆☆☆☆  L3 – R5   유명선수  ...   98   91  102   96   89     12      9   13   \n",
      "0  ★★★★☆☆  L3 – R5   일반선수  ...  102   94   97   91   98     13     10   15   \n",
      "0  ★★☆☆☆☆  L3 – R5  월드클래스  ...   72  100   98   87   95     14     12    8   \n",
      "0  ★★★☆☆☆  L4 – R5   탑클래스  ...   54   89   68   93   92      9     12   15   \n",
      "0  ★★★☆☆☆  L5 – R3   유명선수  ...   86   96   95   89   92     16     14   11   \n",
      "0  ★★★☆☆☆  L3 – R5   일반선수  ...   96   83   93   88   80     11      9   13   \n",
      "0  ★★★★☆☆  L4 – R5   탑클래스  ...   79  100   90   81   93     13     14    8   \n",
      "0  ★☆☆☆☆☆  L3 – R5   유명선수  ...   74   35   63   76   73    101     98   89   \n",
      "0  ★★☆☆☆☆  L5 – R2   일반선수  ...   94   91   85   96   86     15     12   11   \n",
      "0  ★★★★☆☆  L5 – R4   탑클래스  ...   91   99   73   88   97     14      8   13   \n",
      "0  ★★★☆☆☆  L3 – R5   유명선수  ...  104  103   99   98   90      8     12    7   \n",
      "0  ★★★★☆☆  L3 – R5   유명선수  ...   84   93   81   86   87     12     15   12   \n",
      "\n",
      "  GK 반응속도 GK 위치선정  \n",
      "0       8       8  \n",
      "0      13      14  \n",
      "0      10      15  \n",
      "0      11      16  \n",
      "0      12      11  \n",
      "0      73      73  \n",
      "0       9      11  \n",
      "0      12      11  \n",
      "0      83      74  \n",
      "0      15      14  \n",
      "0       8      13  \n",
      "0      10      13  \n",
      "0      16      12  \n",
      "0      15      12  \n",
      "0       9       8  \n",
      "0      13       9  \n",
      "0      11      16  \n",
      "0      14      12  \n",
      "0      13      14  \n",
      "0     104     101  \n",
      "0      13      13  \n",
      "0       8      15  \n",
      "0      11      13  \n",
      "0      10      15  \n",
      "\n",
      "[24 rows x 47 columns]\n"
     ]
    }
   ],
   "source": [
    "url = 'https://fifaonline4.nexon.com/DataCenter/PlayerInfo?spid='\n",
    "player_simple_df = pd.DataFrame()\n",
    "player_detail_df = pd.DataFrame()\n",
    "\n",
    "for idx, val in enumerate(uefa21_chelsea_data['id']):\n",
    "    response = requests.get(url + str(val))\n",
    "\n",
    "    if response.status_code == 200:\n",
    "        html = response.text\n",
    "        soup = BeautifulSoup(html, 'html.parser')\n",
    "        name = soup.select_one('#middle .datacenter .player_view .content_header .info_name .name')\n",
    "        position = soup.select_one('#middle .datacenter .player_view .content_header .thumb .position')\n",
    "        overall = soup.select_one('#middle .datacenter .player_view .content_header .thumb .ovr')\n",
    "        birth = soup.select_one('#middle .datacenter .player_view .content_header .info_etc .birth')\n",
    "        height = soup.select_one('#middle .datacenter .player_view .content_header .info_etc .height')\n",
    "        weight = soup.select_one('#middle .datacenter .player_view .content_header .info_etc .weight')\n",
    "        physical = soup.select_one('#middle .datacenter .player_view .content_header .info_etc .physical')\n",
    "        skill = soup.select_one('#middle .datacenter .player_view .content_header .info_etc .skill')\n",
    "        foot = soup.select_one('#middle .datacenter .player_view .content_header .info_etc .foot')\n",
    "        season = soup.select_one('#middle .datacenter .player_view .content_header .info_etc .season')\n",
    "        team = soup.select_one('#middle .datacenter .player_view .content_header .info_team .team .txt')\n",
    "        nation = soup.select_one('#middle .datacenter .player_view .content_header .info_team .nation .txt')\n",
    "        skill_wrap = soup.select_one('#middle .datacenter .player_view .content_header .skill_wrap')\n",
    "        simple_stats = soup.select('#middle .datacenter .player_view .content_middle .txt')\n",
    "        simple_values = soup.select('#middle .datacenter .player_view .content_middle .value')\n",
    "        detail_stats = soup.select('#middle .datacenter .player_view .content_bottom .txt')\n",
    "        detail_values = soup.select('#middle .datacenter .player_view .content_bottom .value')\n",
    "\n",
    "        player_simple_data = pd.DataFrame([{'name':name.getText()}])\n",
    "        player_simple_data['position'] = position.getText()\n",
    "        player_simple_data['overall'] = overall.getText()\n",
    "        player_simple_data['birth'] = birth.getText().strip()\n",
    "        player_simple_data['height'] = height.getText()\n",
    "        player_simple_data['weight'] = weight.getText()\n",
    "        player_simple_data['physical'] = physical.getText()\n",
    "        player_simple_data['skill'] = skill.getText().strip()\n",
    "        player_simple_data['foot'] = foot.getText().strip()\n",
    "        player_simple_data['season'] = season.getText()\n",
    "        player_simple_data['team'] = team.getText()\n",
    "        player_simple_data['nation'] = nation.getText()\n",
    "        player_simple_data['skill_wrap'] = re.sub(\"\\s|특성\", \"\", skill_wrap.getText())\n",
    "        for s, v in zip(simple_stats, simple_values):\n",
    "            player_simple_data[s.getText()] = v.getText()\n",
    "        player_simple_df = pd.concat([player_simple_df, player_simple_data])\n",
    "\n",
    "        player_detail_data = pd.DataFrame([{'name':name.getText()}])\n",
    "        player_detail_data['position'] = position.getText()\n",
    "        player_detail_data['overall'] = overall.getText()\n",
    "        player_detail_data['birth'] = birth.getText().strip()\n",
    "        player_detail_data['height'] = height.getText()\n",
    "        player_detail_data['weight'] = weight.getText()\n",
    "        player_detail_data['physical'] = physical.getText()\n",
    "        player_detail_data['skill'] = skill.getText().strip()\n",
    "        player_detail_data['foot'] = foot.getText().strip()\n",
    "        player_detail_data['season'] = season.getText()\n",
    "        player_detail_data['team'] = team.getText()\n",
    "        player_detail_data['nation'] = nation.getText()\n",
    "        player_detail_data['skill_wrap'] = re.sub(\"\\s|특성\", \"\", skill_wrap.getText())\n",
    "        for s, v in zip(detail_stats, detail_values):\n",
    "            player_detail_data[s.getText()] = v.getText()\n",
    "        player_detail_df = pd.concat([player_detail_df, player_detail_data])\n",
    "\n",
    "    elif response.status_code == 404:\n",
    "        print('Not Found.')\n",
    "    else:\n",
    "        print('An error has occurred.')\n",
    "\n",
    "print(player_simple_df)\n",
    "print(player_detail_df)\n",
    "\n",
    "with pd.ExcelWriter('player_data.xlsx') as writer:\n",
    "    player_simple_df.to_excel(writer, sheet_name='simple', index=False)\n",
    "    player_detail_df.to_excel(writer, sheet_name='detail', index=False)"
   ],
   "metadata": {
    "collapsed": false,
    "pycharm": {
     "name": "#%%\n"
    }
   }
  }
 ],
 "metadata": {
  "kernelspec": {
   "display_name": "Python 3",
   "language": "python",
   "name": "python3"
  },
  "language_info": {
   "codemirror_mode": {
    "name": "ipython",
    "version": 2
   },
   "file_extension": ".py",
   "mimetype": "text/x-python",
   "name": "python",
   "nbconvert_exporter": "python",
   "pygments_lexer": "ipython2",
   "version": "2.7.6"
  }
 },
 "nbformat": 4,
 "nbformat_minor": 0
}